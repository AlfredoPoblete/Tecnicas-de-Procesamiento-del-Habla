{
  "nbformat": 4,
  "nbformat_minor": 0,
  "metadata": {
    "colab": {
      "provenance": []
    },
    "kernelspec": {
      "name": "python3",
      "display_name": "Python 3"
    },
    "language_info": {
      "name": "python"
    }
  },
  "cells": [
    {
      "cell_type": "markdown",
      "source": [
        "# Introducción al Procesamiento de Lenguaje Natural: Vectorización y Clasificación de Texto\n",
        "\n",
        "## Objetivo del Notebook\n",
        "Este notebook tiene como objetivo principal demostrar conceptos fundamentales en el Procesamiento de Lenguaje Natural (PLN):\n",
        "1.  **Vectorización de Texto:** Aprender cómo se transforman las palabras y documentos en representaciones numéricas que pueden ser entendidas por algoritmos de Machine Learning, explorando técnicas como Bag-of-Words (BoW) y TF-IDF.\n",
        "2.  **Clasificación de Texto:** Implementar un flujo de trabajo básico para clasificar reseñas de texto en categorías predefinidas (por ejemplo, positivo/negativo) utilizando un pipeline de Machine Learning.\n",
        "3.  **Embeddings de Palabras:** Introducir el concepto de Word Embeddings (representaciones vectoriales de palabras densas) y cómo se pueden utilizar para capturar relaciones semánticas entre palabras.\n",
        "\n",
        "## Pasos Realizados\n",
        "El notebook está estructurado en las siguientes secciones:\n",
        "* Importación de librerías esenciales para manipulación de datos, vectorización, modelado y evaluación.\n",
        "* Demostración de **CountVectorizer (BoW)** para entender la representación de la frecuencia de palabras.\n",
        "* Demostración de **TfidfVectorizer** para observar cómo se pondera la importancia de las palabras en un corpus.\n",
        "* Implementación de un **Pipeline de Clasificación de Texto** utilizando TF-IDF y un clasificador Naive Bayes.\n",
        "* Evaluación del modelo de clasificación mediante métricas clave y una matriz de confusión.\n",
        "* Exploración de **Word Embeddings** (FastText) para visualizar cómo las palabras se representan en un espacio vectorial y sus propiedades semánticas.\n"
      ],
      "metadata": {
        "id": "iJQj6cpvMz_k"
      }
    },
    {
      "cell_type": "markdown",
      "source": [
        "## 1. Importación de Librerías Necesarias\n",
        "Este script importa todas las bibliotecas de Python que se utilizarán a lo largo del notebook para manipulación de datos, tareas de PLN, machine learning y visualización.\n"
      ],
      "metadata": {
        "id": "fwxPCV3KNEPS"
      }
    },
    {
      "cell_type": "code",
      "source": [
        "# Para manipulación de datos y operaciones numéricas\n",
        "import numpy as np\n",
        "# Para vectorización y modelos de Machine Learning\n",
        "from sklearn.feature_extraction.text import CountVectorizer, TfidfVectorizer      # Importa clases para vectorizar texto (BoW y TF-IDF)\n",
        "from sklearn.model_selection import train_test_split                              # Importa función para dividir datos en conjuntos de entrenamiento y prueba\n",
        "from sklearn.pipeline import Pipeline                                             # Importa la clase Pipeline para encadenar múltiples pasos de procesamiento\n",
        "from sklearn.naive_bayes import MultinomialNB                                     # Importa el clasificador Naive Bayes Multinomial\n",
        "from sklearn.linear_model import LogisticRegression                               # Importa el clasificador de Regresión Logística (aunque no se usa en este ejemplo, es común en clasificación de texto)\n",
        "# Para evaluación de modelos\n",
        "from sklearn.metrics import classification_report, confusion_matrix, ConfusionMatrixDisplay    # Importa funciones para evaluar el rendimiento del clasificador (reporte, matriz de confusión y su visualización)\n",
        "# Para visualización (opcional, para la matriz de confusión)\n",
        "import matplotlib.pyplot as plt                                                   # Importa la librería Matplotlib para crear gráficos\n",
        "\n",
        "print(\"Librerías principales importadas.\")"
      ],
      "metadata": {
        "id": "VC3Nbshfag5I",
        "colab": {
          "base_uri": "https://localhost:8080/"
        },
        "outputId": "9de0182d-a254-47e3-e4c7-cf4ef9fcd546"
      },
      "execution_count": 1,
      "outputs": [
        {
          "output_type": "stream",
          "name": "stdout",
          "text": [
            "Librerías principales importadas.\n"
          ]
        }
      ]
    },
    {
      "cell_type": "markdown",
      "source": [
        "##2. Demostración de CountVectorizer (Bag-of-Words) y TfidfVectorizer\n",
        "Esta sección ilustra cómo CountVectorizer y TfidfVectorizer transforman un conjunto de documentos de texto (corpus) en representaciones numéricas, que son la base para el análisis y modelado en PLN."
      ],
      "metadata": {
        "id": "JSKClS4-NeaE"
      }
    },
    {
      "cell_type": "code",
      "source": [
        "# Demostración: CountVectorizer (Bag-of-Words) vs TfidfVectorizer\n",
        "\n",
        "# Corpus de ejemplo (textos cortos en español)\n",
        "corpus = [\n",
        "    \"qué bueno está la semita con chicharrones\",\n",
        "    \"la semita sin sal no me pinta\",\n",
        "    \"que rancio esta la semita\",\n",
        "    \"me gustan las semitas bien calientes\"\n",
        "]"
      ],
      "metadata": {
        "id": "PAMTuMWecRBB"
      },
      "execution_count": 2,
      "outputs": []
    },
    {
      "cell_type": "markdown",
      "source": [
        "### 2.1 Usando CountVectorizer (Bolsa de Palabras simple)"
      ],
      "metadata": {
        "id": "KJMY-3PbhM9n"
      }
    },
    {
      "cell_type": "code",
      "source": [
        "# CountVectorizer convierte una colección de documentos de texto en una matriz de recuentos de tokens.\n",
        "print(\"--- CountVectorizer (BoW) ---\")\n",
        "count_vectorizer = CountVectorizer() # Instancia un objeto CountVectorizer\n",
        "bow_matrix = count_vectorizer.fit_transform(corpus) # Aprende el vocabulario del corpus y transforma los textos en una matriz BoW\n",
        "\n",
        "# Mostramos el vocabulario (las \"features\")\n",
        "print(\"Vocabulario (Features):\")\n",
        "print(count_vectorizer.get_feature_names_out()) # Muestra las palabras únicas (features) que CountVectorizer aprendió del corpus\n",
        "\n",
        "# Mostramos la matriz BoW (dispersa)\n",
        "print(\"\\nMatriz BoW (Documento x Palabra):\")\n",
        "print(bow_matrix.toarray()) # Convierte la matriz dispersa (sparse matrix) a una matriz densa (numpy array) y la imprime\n",
        "print(\"-\" * 30)"
      ],
      "metadata": {
        "id": "4LvsNM3pcbQr",
        "colab": {
          "base_uri": "https://localhost:8080/"
        },
        "outputId": "7e85396a-623f-48f5-bbf5-4c6204afc3b7"
      },
      "execution_count": 3,
      "outputs": [
        {
          "output_type": "stream",
          "name": "stdout",
          "text": [
            "--- CountVectorizer (BoW) ---\n",
            "Vocabulario (Features):\n",
            "['bien' 'bueno' 'calientes' 'chicharrones' 'con' 'esta' 'está' 'gustan'\n",
            " 'la' 'las' 'me' 'no' 'pinta' 'que' 'qué' 'rancio' 'sal' 'semita'\n",
            " 'semitas' 'sin']\n",
            "\n",
            "Matriz BoW (Documento x Palabra):\n",
            "[[0 1 0 1 1 0 1 0 1 0 0 0 0 0 1 0 0 1 0 0]\n",
            " [0 0 0 0 0 0 0 0 1 0 1 1 1 0 0 0 1 1 0 1]\n",
            " [0 0 0 0 0 1 0 0 1 0 0 0 0 1 0 1 0 1 0 0]\n",
            " [1 0 1 0 0 0 0 1 0 1 1 0 0 0 0 0 0 0 1 0]]\n",
            "------------------------------\n"
          ]
        }
      ]
    },
    {
      "cell_type": "markdown",
      "source": [
        "## 2.2 Usando TfidfVectorizer"
      ],
      "metadata": {
        "id": "ahoCh7KIhzs0"
      }
    },
    {
      "cell_type": "code",
      "source": [
        "# TfidfVectorizer convierte una colección de documentos de texto en una matriz de características TF-IDF.\n",
        "# TF-IDF (Term Frequency-Inverse Document Frequency) es una medida de la importancia de una palabra en un documento en relación con todo el corpus.\n",
        "\n",
        "print(\"\\n--- TfidfVectorizer ---\")\n",
        "tfidf_vectorizer = TfidfVectorizer() # Instancia un objeto TfidfVectorizer\n",
        "tfidf_matrix = tfidf_vectorizer.fit_transform(corpus) # Aprende el vocabulario y transforma los textos en una matriz TF-IDF\n",
        "\n",
        "# El vocabulario es el mismo (si no cambiamos parámetros)\n",
        "# print(\"Vocabulario (Features):\") # Ya se mostró el vocabulario con CountVectorizer, es el mismo por defecto\n",
        "# print(tfidf_vectorizer.get_feature_names_out())\n",
        "\n",
        "# Mostramos la matriz TF-IDF\n",
        "print(\"Matriz TF-IDF (Documento x Palabra):\")\n",
        "print(tfidf_matrix.toarray()) # Convierte la matriz dispersa TF-IDF a una matriz densa y la imprime\n",
        "print(\"-\" * 30) # Separador visual\n"
      ],
      "metadata": {
        "id": "1v0MjIMHcW4l",
        "colab": {
          "base_uri": "https://localhost:8080/"
        },
        "outputId": "595e15fd-e194-4bec-9417-df7ebafcce42"
      },
      "execution_count": 4,
      "outputs": [
        {
          "output_type": "stream",
          "name": "stdout",
          "text": [
            "\n",
            "--- TfidfVectorizer ---\n",
            "Matriz TF-IDF (Documento x Palabra):\n",
            "[[0.         0.4146979  0.         0.4146979  0.4146979  0.\n",
            "  0.4146979  0.         0.2646963  0.         0.         0.\n",
            "  0.         0.         0.4146979  0.         0.         0.2646963\n",
            "  0.         0.        ]\n",
            " [0.         0.         0.         0.         0.         0.\n",
            "  0.         0.         0.27375357 0.         0.33814012 0.42888787\n",
            "  0.42888787 0.         0.         0.         0.42888787 0.27375357\n",
            "  0.         0.42888787]\n",
            " [0.         0.         0.         0.         0.         0.51199172\n",
            "  0.         0.         0.32679768 0.         0.         0.\n",
            "  0.         0.51199172 0.         0.51199172 0.         0.32679768\n",
            "  0.         0.        ]\n",
            " [0.42176478 0.         0.42176478 0.         0.         0.\n",
            "  0.         0.42176478 0.         0.42176478 0.3325242  0.\n",
            "  0.         0.         0.         0.         0.         0.\n",
            "  0.42176478 0.        ]]\n",
            "------------------------------\n"
          ]
        }
      ]
    },
    {
      "cell_type": "markdown",
      "source": [
        "--- Observaciones ---\n",
        "* Nota 1: Compara los valores de palabras comunes como 'mate', 'el', 'está'.\n",
        "\n",
        "En BoW son solo cuentas de frecuencia. En TF-IDF, su peso se ajusta por la frecuencia inversa en los documentos (IDF). Palabras más 'distintivas' de un      documento (ej. 'dulce', 'caliente', 'che') tienden a tener mayor peso TF-IDF relativo que palabras muy comunes en *todo* el corpus. Esto se debe a que TF-IDF penaliza las palabras frecuentes en todo el corpus y recompensa las palabras raras que son más discriminatorias.\n",
        "* Nota 2: Ambas matrices son 'dispersas' (muchos ceros). Esto es eficiente para grandes corpus ya que la mayoría de las palabras no aparecen en la mayoría de los documentos."
      ],
      "metadata": {
        "id": "b92j5VIxx-gK"
      }
    },
    {
      "cell_type": "markdown",
      "source": [
        "### 3. Añadiendo N-Gramas a TF-IDF"
      ],
      "metadata": {
        "id": "Lys1tPhaxrtM"
      }
    },
    {
      "cell_type": "code",
      "source": [
        "print(\"\\n--- TfidfVectorizer con N-Gramas (bigramas) ---\")\n",
        "\n",
        "# Usamos el mismo corpus de antes\n",
        "# Creamos un nuevo vectorizador, ahora especificando ngram_range\n",
        "# ngram_range=(1, 2) significa: usa unigramas (palabras solas) Y bigramas (pares de palabras)\n",
        "tfidf_ngram_vectorizer = TfidfVectorizer(ngram_range=(1, 2))\n",
        "tfidf_ngram_matrix = tfidf_ngram_vectorizer.fit_transform(corpus)\n",
        "\n",
        "# Mostramos el NUEVO vocabulario, que ahora incluye bigramas\n",
        "print(\"Vocabulario con unigramas y bigramas:\")\n",
        "print(tfidf_ngram_vectorizer.get_feature_names_out())\n",
        "\n",
        "# Mostramos la nueva matriz TF-IDF (será más ancha)\n",
        "print(\"\\nMatriz TF-IDF con N-Gramas:\")\n",
        "print(tfidf_ngram_matrix.toarray())\n",
        "print(\"-\" * 30)"
      ],
      "metadata": {
        "colab": {
          "base_uri": "https://localhost:8080/"
        },
        "id": "CgF-VhVCxqsH",
        "outputId": "3a99bb2d-177c-43d5-d038-d4b51a9a1341"
      },
      "execution_count": 5,
      "outputs": [
        {
          "output_type": "stream",
          "name": "stdout",
          "text": [
            "\n",
            "--- TfidfVectorizer con N-Gramas (bigramas) ---\n",
            "Vocabulario con unigramas y bigramas:\n",
            "['bien' 'bien calientes' 'bueno' 'bueno está' 'calientes' 'chicharrones'\n",
            " 'con' 'con chicharrones' 'esta' 'esta la' 'está' 'está la' 'gustan'\n",
            " 'gustan las' 'la' 'la semita' 'las' 'las semitas' 'me' 'me gustan'\n",
            " 'me pinta' 'no' 'no me' 'pinta' 'que' 'que rancio' 'qué' 'qué bueno'\n",
            " 'rancio' 'rancio esta' 'sal' 'sal no' 'semita' 'semita con' 'semita sin'\n",
            " 'semitas' 'semitas bien' 'sin' 'sin sal']\n",
            "\n",
            "Matriz TF-IDF con N-Gramas:\n",
            "[[0.         0.         0.29851104 0.29851104 0.         0.29851104\n",
            "  0.29851104 0.29851104 0.         0.         0.29851104 0.29851104\n",
            "  0.         0.         0.19053573 0.19053573 0.         0.\n",
            "  0.         0.         0.         0.         0.         0.\n",
            "  0.         0.         0.29851104 0.29851104 0.         0.\n",
            "  0.         0.         0.19053573 0.29851104 0.         0.\n",
            "  0.         0.         0.        ]\n",
            " [0.         0.         0.         0.         0.         0.\n",
            "  0.         0.         0.         0.         0.         0.\n",
            "  0.         0.         0.1938317  0.1938317  0.         0.\n",
            "  0.23942071 0.         0.30367481 0.30367481 0.30367481 0.30367481\n",
            "  0.         0.         0.         0.         0.         0.\n",
            "  0.30367481 0.30367481 0.1938317  0.         0.30367481 0.\n",
            "  0.         0.30367481 0.30367481]\n",
            " [0.         0.         0.         0.         0.         0.\n",
            "  0.         0.         0.37210398 0.37210398 0.         0.\n",
            "  0.         0.         0.23750915 0.23750915 0.         0.\n",
            "  0.         0.         0.         0.         0.         0.\n",
            "  0.37210398 0.37210398 0.         0.         0.37210398 0.37210398\n",
            "  0.         0.         0.23750915 0.         0.         0.\n",
            "  0.         0.         0.        ]\n",
            " [0.3068352  0.3068352  0.         0.         0.3068352  0.\n",
            "  0.         0.         0.         0.         0.         0.\n",
            "  0.3068352  0.3068352  0.         0.         0.3068352  0.3068352\n",
            "  0.2419124  0.3068352  0.         0.         0.         0.\n",
            "  0.         0.         0.         0.         0.         0.\n",
            "  0.         0.         0.         0.         0.         0.3068352\n",
            "  0.3068352  0.         0.        ]]\n",
            "------------------------------\n"
          ]
        }
      ]
    },
    {
      "cell_type": "markdown",
      "source": [
        "--- Observaciones ---\n",
        "* Nota 1:\n",
        "\n",
        "Fíjate cómo aparecen términos como \"mate amargo\", \"qué bueno\", \"no me\", etc.\n",
        "\n",
        "Estos bigramas capturan un poco del contexto local y pueden ser features\n",
        "\n",
        "Muy útiles para los modelos. Por ejemplo, 'amargo' solo y 'mate amargo'\n",
        "\n",
        "Aportan información diferente.\n",
        "* Nota 2:\n",
        "\n",
        "El número de features (columnas) aumenta considerablemente."
      ],
      "metadata": {
        "id": "UdwN3J9Eydhr"
      }
    },
    {
      "cell_type": "markdown",
      "source": [
        "##3. Demostración: Pipeline de Clasificación de Texto y Evaluación\n",
        "Esta sección demuestra cómo construir un pipeline de Machine Learning para clasificar texto. Se prepara un conjunto de datos de ejemplo, se divide en conjuntos de entrenamiento y prueba, y se entrena y evalúa un modelo de clasificación."
      ],
      "metadata": {
        "id": "HHELJwWhitnl"
      }
    },
    {
      "cell_type": "markdown",
      "source": [
        "###3.1 Datos de Ejemplo (Simples, para clasificación binaria: Positivo/Negativo)\n"
      ],
      "metadata": {
        "id": "qqEzTBojsj-G"
      }
    },
    {
      "cell_type": "code",
      "source": [
        "# Define una lista de textos (reseñas de ejemplo)\n",
        "textos = [\n",
        "    \"La milanesa a caballo estaba espectacular!\", # Positivo\n",
        "    \"Qué buena onda la atención en el bar.\",      # Positivo\n",
        "    \"El flan con dulce de leche es lo más.\",      # Positivo\n",
        "    \"El bife de chorizo llegó frío y duro.\",      # Negativo\n",
        "    \"Mucho quilombo, tardaron una banda en traer la cuenta.\", # Negativo\n",
        "    \"La verdad, la pizza dejaba bastante que desear.\", # Negativo\n",
        "    \"Estaba mansa la semita que me mande\", # Positivo\n",
        "    \"Terrible olor a sopa tenes\", # Negativo\n",
        "    \"El dia esta como para partirse unas tortas fritas\", # Positivo\n",
        "    \"Tengo alta pasta ir a laburar\", # Negativo\n",
        "    \"Esa remera te queda horriblemente bien\", # Negativo\n",
        "]\n",
        "# Define las etiquetas correspondientes a cada texto: 1 para Positivo, 0 para Negativo\n",
        "labels = np.array([1, 1, 1, 0, 0, 0, 1, 0, 1, 0, 0])\n",
        "\n"
      ],
      "metadata": {
        "id": "144lGGePdGcM"
      },
      "execution_count": 6,
      "outputs": []
    },
    {
      "cell_type": "markdown",
      "source": [
        "### 3.2 Dividir datos en Entrenamiento y Prueba"
      ],
      "metadata": {
        "id": "dsC2Zj91zWZU"
      }
    },
    {
      "cell_type": "code",
      "source": [
        "\n",
        "# train_test_split divide los datos en subconjuntos aleatorios para entrenamiento y prueba.\n",
        "X_train, X_test, y_train, y_test = train_test_split(textos, labels, test_size=0.33, random_state=42)\n",
        "# test_size=0.33 significa que aproximadamente un tercio de los datos se usará para el conjunto de prueba.\n",
        "# random_state=42 asegura que la división de los datos sea la misma cada vez que se ejecute el código (reproducibilidad).\n",
        "\n",
        "print(f\"Textos de entrenamiento: {len(X_train)}\") # Imprime el número de textos en el conjunto de entrenamiento\n",
        "print(f\"Textos de prueba: {len(X_test)}\") # Imprime el número de textos en el conjunto de prueba\n",
        "print(\"-\" * 30) # Separador visual"
      ],
      "metadata": {
        "colab": {
          "base_uri": "https://localhost:8080/"
        },
        "id": "nrZgYhz4zUSI",
        "outputId": "e83b6c74-69b0-4bfb-f335-51ae237d36d3"
      },
      "execution_count": 7,
      "outputs": [
        {
          "output_type": "stream",
          "name": "stdout",
          "text": [
            "Textos de entrenamiento: 7\n",
            "Textos de prueba: 4\n",
            "------------------------------\n"
          ]
        }
      ]
    },
    {
      "cell_type": "markdown",
      "source": [
        "### 3.3 Crear y Entrenar un Pipeline (TF-IDF + Naive Bayes)"
      ],
      "metadata": {
        "id": "n-2r2lXmzmux"
      }
    },
    {
      "cell_type": "code",
      "source": [
        "# Un Pipeline encadena múltiples pasos de procesamiento de datos y un estimador final.\n",
        "# Simplifica el flujo de trabajo y previene el \"data leakage\".\n",
        "pipeline_nb = Pipeline([\n",
        "    ('tfidf', TfidfVectorizer(ngram_range=(1,1))), # Primer paso: vectorizar texto usando TF-IDF. ngram_range=(1,1) significa que solo se consideran palabras individuales (unigramas).\n",
        "    ('clf', MultinomialNB()) # Segundo paso: clasificador Naive Bayes Multinomial, adecuado para datos de conteo/frecuencia.\n",
        "])\n",
        "\n",
        "print(\"\\nEntrenando el Pipeline (TF-IDF + Naive Bayes)...\") # Mensaje indicando el inicio del entrenamiento\n",
        "# Entrenamos el pipeline COMPLETO con los datos de texto CRUDOS de entrenamiento (X_train) y sus etiquetas (y_train).\n",
        "# El pipeline internamente se encarga de la vectorización antes de entrenar el clasificador.\n",
        "pipeline_nb.fit(X_train, y_train)\n",
        "print(\"Entrenamiento completado.\") # Mensaje indicando la finalización del entrenamiento\n",
        "print(\"-\" * 30) # Separador visual"
      ],
      "metadata": {
        "colab": {
          "base_uri": "https://localhost:8080/"
        },
        "id": "XU89UTKqzjsV",
        "outputId": "09e0fe33-cc92-4f82-88e8-ddee594572e2"
      },
      "execution_count": 8,
      "outputs": [
        {
          "output_type": "stream",
          "name": "stdout",
          "text": [
            "\n",
            "Entrenando el Pipeline (TF-IDF + Naive Bayes)...\n",
            "Entrenamiento completado.\n",
            "------------------------------\n"
          ]
        }
      ]
    },
    {
      "cell_type": "markdown",
      "source": [
        "### 3.4 Realizar Predicciones sobre los datos de Prueba"
      ],
      "metadata": {
        "id": "Sm6UBTj3z9nD"
      }
    },
    {
      "cell_type": "code",
      "source": [
        "print(\"\\nRealizando predicciones sobre el conjunto de prueba...\") # Mensaje indicando el inicio de las predicciones\n",
        "y_pred_nb = pipeline_nb.predict(X_test) # Utiliza el pipeline entrenado para predecir las etiquetas del conjunto de prueba\n",
        "\n",
        "print(f\"Predicciones: {y_pred_nb}\") # Imprime las etiquetas predichas por el modelo\n",
        "print(f\"Etiquetas Reales: {y_test}\") # Imprime las etiquetas verdaderas del conjunto de prueba\n",
        "print(\"-\" * 30) # Separador visual"
      ],
      "metadata": {
        "colab": {
          "base_uri": "https://localhost:8080/"
        },
        "id": "cpBcVs5Kz6N2",
        "outputId": "92926e1d-a443-4295-edf4-129da96ab4dc"
      },
      "execution_count": 9,
      "outputs": [
        {
          "output_type": "stream",
          "name": "stdout",
          "text": [
            "\n",
            "Realizando predicciones sobre el conjunto de prueba...\n",
            "Predicciones: [1 1 1 1]\n",
            "Etiquetas Reales: [0 1 0 0]\n",
            "------------------------------\n"
          ]
        }
      ]
    },
    {
      "cell_type": "markdown",
      "source": [
        "### 3.5 Evaluar el Modelo\n",
        "Evalúa el rendimiento del modelo utilizando métricas comunes y una matriz de confusión."
      ],
      "metadata": {
        "id": "0_hpvdZ-1iEr"
      }
    },
    {
      "cell_type": "code",
      "source": [
        "print(\"\\n--- Evaluación del Modelo (Naive Bayes) ---\")\n",
        "# classification_report genera un informe de texto que muestra la precisión (precision), la exhaustividad (recall)\n",
        "# y la puntuación F1 (f1-score) para cada clase, así como promedios.\n",
        "print(classification_report(y_test, y_pred_nb, target_names=['Negativo (0)', 'Positivo (1)']))\n",
        "\n",
        "# Matriz de Confusión\n",
        "print(\"\\nMatriz de Confusión:\")\n",
        "cm_nb = confusion_matrix(y_test, y_pred_nb) # Calcula la matriz de confusión\n",
        "# ConfusionMatrixDisplay es una clase para dibujar una matriz de confusión de manera visual.\n",
        "disp_nb = ConfusionMatrixDisplay(confusion_matrix=cm_nb, display_labels=['Negativo (0)', 'Positivo (1)'])\n",
        "disp_nb.plot(cmap=plt.cm.Blues) # Dibuja la matriz de confusión con un mapa de color azul\n",
        "plt.show() # Muestra el gráfico de la matriz de confusión"
      ],
      "metadata": {
        "colab": {
          "base_uri": "https://localhost:8080/",
          "height": 813
        },
        "id": "s05lyD9g1fxr",
        "outputId": "aaf86e81-8943-4148-9a51-1a02467f69e4"
      },
      "execution_count": 10,
      "outputs": [
        {
          "output_type": "stream",
          "name": "stdout",
          "text": [
            "\n",
            "--- Evaluación del Modelo (Naive Bayes) ---\n",
            "              precision    recall  f1-score   support\n",
            "\n",
            "Negativo (0)       0.00      0.00      0.00         3\n",
            "Positivo (1)       0.25      1.00      0.40         1\n",
            "\n",
            "    accuracy                           0.25         4\n",
            "   macro avg       0.12      0.50      0.20         4\n",
            "weighted avg       0.06      0.25      0.10         4\n"
          ]
        },
        {
          "output_type": "stream",
          "name": "stderr",
          "text": [
            "/usr/local/lib/python3.11/dist-packages/sklearn/metrics/_classification.py:1565: UndefinedMetricWarning: Precision is ill-defined and being set to 0.0 in labels with no predicted samples. Use `zero_division` parameter to control this behavior.\n",
            "  _warn_prf(average, modifier, f\"{metric.capitalize()} is\", len(result))\n",
            "/usr/local/lib/python3.11/dist-packages/sklearn/metrics/_classification.py:1565: UndefinedMetricWarning: Precision is ill-defined and being set to 0.0 in labels with no predicted samples. Use `zero_division` parameter to control this behavior.\n",
            "  _warn_prf(average, modifier, f\"{metric.capitalize()} is\", len(result))\n",
            "/usr/local/lib/python3.11/dist-packages/sklearn/metrics/_classification.py:1565: UndefinedMetricWarning: Precision is ill-defined and being set to 0.0 in labels with no predicted samples. Use `zero_division` parameter to control this behavior.\n",
            "  _warn_prf(average, modifier, f\"{metric.capitalize()} is\", len(result))\n"
          ]
        },
        {
          "output_type": "stream",
          "name": "stdout",
          "text": [
            "\n",
            "\n",
            "Matriz de Confusión:\n"
          ]
        },
        {
          "output_type": "display_data",
          "data": {
            "text/plain": [
              "<Figure size 640x480 with 2 Axes>"
            ],
            "image/png": "[encoded data removed]"
          },
          "metadata": {}
        }
      ]
    },
    {
      "cell_type": "markdown",
      "source": [
        "--- Observaciones ---\n",
        "* Nota 1:\n",
        "\n",
        "El Pipeline simplifica enormemente el flujo. Entrenamos con texto crudo y predice con texto crudo.\n",
        "\n",
        "La vectorización ocurre internamente dentro del pipeline de forma automática.\n",
        "\n",
        "* Nota 2:\n",
        "\n",
        "El 'classification_report' es CLAVE. Muestra Precision, Recall y F1-Score para cada clase. Es importante fijarse si el modelo funciona igual de bien para ambas clases.\n",
        "\n",
        "'support' indica cuántas muestras de cada clase había en el conjunto de prueba (test set).\n",
        "\n",
        "* Nota 3:\n",
        "\n",
        "La Matriz de Confusión ayuda a ver *dónde* el modelo se equivoca.\n",
        "\n",
        "La Diagonal principal representa los aciertos (predicciones correctas).\n",
        "\n",
        "Los valores fuera de la diagonal representan los errores (predicciones incorrectas).\n",
        "\n",
        "(Fila = Etiqueta Real, Columna = Etiqueta Predicha)."
      ],
      "metadata": {
        "id": "Vsdk36Ha1vxM"
      }
    },
    {
      "cell_type": "markdown",
      "source": [
        "## 4. Exploración de Word Embeddings (FastText)\n",
        "Esta sección introduce los Word Embeddings, que son representaciones densas y de baja dimensión de palabras. A diferencia de BoW y TF-IDF, los embeddings capturan relaciones semánticas entre palabras. Aquí se utiliza un modelo pre-entrenado de FastText.\n",
        "\n",
        "* Nota: Se recomienda ejecutar las siguientes líneas en un entorno de cuaderno (como Jupyter) y reiniciar el kernel después de la instalación/desinstalación si es necesario para asegurar la compatibilidad. Esto es para asegurar que las versiones de numpy, scipy y gensim sean compatibles."
      ],
      "metadata": {
        "id": "n5cIeywU2yeM"
      }
    },
    {
      "cell_type": "code",
      "source": [
        "!pip install --upgrade numpy scipy gensim # Actualiza las librerías numpy, scipy y gensim. (Descomentar si es necesario)\n",
        "\n",
        "!pip uninstall gensim -y # Desinstala la versión actual de gensim. (Descomentar si hay problemas de compatibilidad)\n",
        "!pip install gensim # Reinstala gensim para asegurar la compatibilidad con la versión de NumPy. (Descomentar si hay problemas de compatibilidad)\n",
        "# # Es crucial reiniciar el kernel después de estas operaciones para que los cambios surtan efecto."
      ],
      "metadata": {
        "id": "IsB4y6sTd0Qf",
        "colab": {
          "base_uri": "https://localhost:8080/"
        },
        "outputId": "13d4f092-618c-458f-d7f7-fe06bad91672"
      },
      "execution_count": 11,
      "outputs": [
        {
          "output_type": "stream",
          "name": "stdout",
          "text": [
            "Requirement already satisfied: numpy in /usr/local/lib/python3.11/dist-packages (1.26.4)\n",
            "Collecting numpy\n",
            "  Downloading numpy-2.3.1-cp311-cp311-manylinux_2_28_x86_64.whl.metadata (62 kB)\n",
            "\u001b[2K     \u001b[90m━━━━━━━━━━━━━━━━━━━━━━━━━━━━━━━━━━━━━━━━\u001b[0m \u001b[32m62.1/62.1 kB\u001b[0m \u001b[31m1.9 MB/s\u001b[0m eta \u001b[36m0:00:00\u001b[0m\n",
            "\u001b[?25hRequirement already satisfied: scipy in /usr/local/lib/python3.11/dist-packages (1.13.1)\n",
            "Collecting scipy\n",
            "  Downloading scipy-1.16.0-cp311-cp311-manylinux2014_x86_64.manylinux_2_17_x86_64.whl.metadata (61 kB)\n",
            "\u001b[2K     \u001b[90m━━━━━━━━━━━━━━━━━━━━━━━━━━━━━━━━━━━━━━━━\u001b[0m \u001b[32m61.9/61.9 kB\u001b[0m \u001b[31m3.2 MB/s\u001b[0m eta \u001b[36m0:00:00\u001b[0m\n",
            "\u001b[?25hRequirement already satisfied: gensim in /usr/local/lib/python3.11/dist-packages (4.3.3)\n",
            "Requirement already satisfied: smart-open>=1.8.1 in /usr/local/lib/python3.11/dist-packages (from gensim) (7.1.0)\n",
            "Requirement already satisfied: wrapt in /usr/local/lib/python3.11/dist-packages (from smart-open>=1.8.1->gensim) (1.17.2)\n",
            "Found existing installation: gensim 4.3.3\n",
            "Uninstalling gensim-4.3.3:\n",
            "  Successfully uninstalled gensim-4.3.3\n",
            "Collecting gensim\n",
            "  Using cached gensim-4.3.3-cp311-cp311-manylinux_2_17_x86_64.manylinux2014_x86_64.whl.metadata (8.1 kB)\n",
            "Requirement already satisfied: numpy<2.0,>=1.18.5 in /usr/local/lib/python3.11/dist-packages (from gensim) (1.26.4)\n",
            "Requirement already satisfied: scipy<1.14.0,>=1.7.0 in /usr/local/lib/python3.11/dist-packages (from gensim) (1.13.1)\n",
            "Requirement already satisfied: smart-open>=1.8.1 in /usr/local/lib/python3.11/dist-packages (from gensim) (7.1.0)\n",
            "Requirement already satisfied: wrapt in /usr/local/lib/python3.11/dist-packages (from smart-open>=1.8.1->gensim) (1.17.2)\n",
            "Using cached gensim-4.3.3-cp311-cp311-manylinux_2_17_x86_64.manylinux2014_x86_64.whl (26.7 MB)\n",
            "Installing collected packages: gensim\n",
            "Successfully installed gensim-4.3.3\n"
          ]
        }
      ]
    },
    {
      "cell_type": "code",
      "source": [
        "import gensim.downloader as api # Importa la API de descarga de modelos pre-entrenados de Gensim\n",
        "from gensim.models import KeyedVectors # Importa KeyedVectors para cargar y trabajar con modelos de Word Embeddings\n"
      ],
      "metadata": {
        "id": "hVEZQNiGfzw8"
      },
      "execution_count": 12,
      "outputs": []
    },
    {
      "cell_type": "code",
      "source": [
        "# List available models to find the correct name\n",
        "print(api.info()['models'].keys())"
      ],
      "metadata": {
        "id": "wLr2HtO4gQGp",
        "colab": {
          "base_uri": "https://localhost:8080/"
        },
        "outputId": "a3abdf12-f201-4009-ca68-9f0111a44d98"
      },
      "execution_count": 13,
      "outputs": [
        {
          "output_type": "stream",
          "name": "stdout",
          "text": [
            "dict_keys(['fasttext-wiki-news-subwords-300', 'conceptnet-numberbatch-17-06-300', 'word2vec-ruscorpora-300', 'word2vec-google-news-300', 'glove-wiki-gigaword-50', 'glove-wiki-gigaword-100', 'glove-wiki-gigaword-200', 'glove-wiki-gigaword-300', 'glove-twitter-25', 'glove-twitter-50', 'glove-twitter-100', 'glove-twitter-200', '__testing_word2vec-matrix-synopsis'])\n"
          ]
        }
      ]
    },
    {
      "cell_type": "code",
      "source": [
        "# List available models to find the correct name\n",
        "# print(api.info()['models'].keys()) # Descomentar para ver la lista de modelos disponibles para descargar\n"
      ],
      "metadata": {
        "id": "BNLrzOM0guF9"
      },
      "execution_count": 14,
      "outputs": []
    },
    {
      "cell_type": "code",
      "source": [
        "model_name = 'fasttext-wiki-news-subwords-300' # Define el nombre del modelo de FastText a descargar (contiene 300 dimensiones)\n",
        "word_vectors = api.load(model_name) # Carga el modelo pre-entrenado de vectores de palabras. Esto puede tardar la primera vez.\n",
        "\n",
        "print(f\"Modelo cargado. Vocabulario: {len(word_vectors.index_to_key)} palabras.\") # Imprime el número de palabras en el vocabulario del modelo\n",
        "modelo_cargado = True # Bandera para indicar que el modelo se cargó correctamente"
      ],
      "metadata": {
        "id": "OkdGy4t9gx5d",
        "colab": {
          "base_uri": "https://localhost:8080/"
        },
        "outputId": "9cd8f19a-7d83-4546-a1cf-3b2820f4eda7"
      },
      "execution_count": 15,
      "outputs": [
        {
          "output_type": "stream",
          "name": "stdout",
          "text": [
            "[==================================================] 100.0% 958.5/958.4MB downloaded\n",
            "Modelo cargado. Vocabulario: 999999 palabras.\n"
          ]
        }
      ]
    },
    {
      "cell_type": "code",
      "source": [
        "if modelo_cargado:\n",
        "    # a) Obtener el vector de una palabra\n",
        "    try:\n",
        "        vector_auto = word_vectors['auto'] # Obtiene el vector numérico (embedding) para la palabra 'auto'\n",
        "        print(f\"Vector para 'auto' (primeros 10 de {len(vector_auto)} dimensiones):\") # Imprime el mensaje y las dimensiones del vector\n",
        "        print(vector_auto[:10]) # Imprime los primeros 10 elementos del vector\n",
        "        print(f\"Forma del vector: {vector_auto.shape}\") # Imprime la forma del vector (número de dimensiones)\n",
        "    except KeyError: # Maneja el error si la palabra no se encuentra en el vocabulario del modelo\n",
        "        print(\"La palabra 'auto' no está en el vocabulario.\")\n",
        "    print(\"-\" * 30) # Separador visual\n",
        "\n",
        "    # b) Encontrar palabras similares (similitud coseno)\n",
        "    try:\n",
        "        # most_similar encuentra las palabras más similares a una dada basándose en la similitud coseno de sus vectores.\n",
        "        similares_mate = word_vectors.most_similar('cucaracha', topn=10) # Encuentra las 10 palabras más similares a 'cucaracha'\n",
        "        print(\"Palabras más similares a 'cucaracha':\") # Imprime el mensaje\n",
        "        for palabra, score in similares_mate: # Itera sobre la lista de palabras similares y sus puntajes\n",
        "            print(f\"- {palabra}: {score:.5f}\") # Muestra la palabra y su puntaje de similitud (redondeado a 5 decimales)\n",
        "    except KeyError: # Maneja el error si la palabra no se encuentra en el vocabulario del modelo\n",
        "        print(\"La palabra 'cucaracha' no está en el vocabulario.\")\n",
        "    print(\"-\" * 30) # Separador visual\n",
        "\n",
        "    # c) Realizar analogías vectoriales (el famoso ejemplo rey/reina)\n",
        "    try:\n",
        "        # most_similar también puede resolver analogías del tipo A es a B como C es a D (A - B + C = D)\n",
        "        # Se suman los vectores de las palabras 'positivas' y se restan los de las 'negativas'.\n",
        "        analogia = word_vectors.most_similar(positive=['Viento', 'Tormenta'], negative=['Agua'], topn=2) # Busca palabras que completen la analogía\n",
        "        print(\"Analogía: Viento - Agua + Tormenta ≈ ???\") # Imprime la pregunta de la analogía\n",
        "        print(f\"Resultado más probable: {analogia[0][0]} (Score: {analogia[0][1]:.4f})\") # Imprime la palabra más probable y su puntaje\n",
        "    except KeyError as e: # Maneja el error si alguna palabra en la analogía no está en el vocabulario\n",
        "        print(f\"Error en la analogía: Falta la palabra '{e.args[0]}' en el vocabulario.\")\n",
        "    print(\"-\" * 30) # Separador visual"
      ],
      "metadata": {
        "id": "oVWDSm2omO7c",
        "colab": {
          "base_uri": "https://localhost:8080/"
        },
        "outputId": "22defe7a-da03-4d07-eb22-53f1959f88e5"
      },
      "execution_count": 16,
      "outputs": [
        {
          "output_type": "stream",
          "name": "stdout",
          "text": [
            "Vector para 'auto' (primeros 10 de 300 dimensiones):\n",
            "[ 0.050735 -0.026908  0.11211   0.042649 -0.093272 -0.077388 -0.07398\n",
            " -0.12486   0.13714  -0.049054]\n",
            "Forma del vector: (300,)\n",
            "------------------------------\n",
            "Palabras más similares a 'cucaracha':\n",
            "- Cucaracha: 0.82879\n",
            "- camiseta: 0.70756\n",
            "- huarache: 0.70504\n",
            "- rubia: 0.69016\n",
            "- saca: 0.68864\n",
            "- Apucarana: 0.68624\n",
            "- malaga: 0.68228\n",
            "- pacha: 0.68184\n",
            "- cuna: 0.67982\n",
            "- paloma: 0.67726\n",
            "------------------------------\n",
            "Analogía: Viento - Agua + Tormenta ≈ ???\n",
            "Resultado más probable: Tormento (Score: 0.7332)\n",
            "------------------------------\n"
          ]
        }
      ]
    },
    {
      "cell_type": "markdown",
      "source": [
        "## Conclusión\n",
        "Este notebook ha proporcionado una introducción práctica y detallada a conceptos clave en el Procesamiento de Lenguaje Natural. Hemos cubierto los siguientes puntos:\n",
        "\n",
        "* Representación de Texto:\n",
        "\n",
        "Comprendimos cómo los textos pueden ser transformados en formatos numéricos mediante Bag-of-Words (BoW), que cuenta la frecuencia de las palabras, y TF-IDF, que pondera la importancia de las palabras en función de su rareza en el corpus completo. La diferencia clave es que TF-IDF asigna menor peso a palabras muy comunes que no son discriminatorias.\n",
        "* Clasificación de Texto:\n",
        "\n",
        "Implementamos un flujo de trabajo completo para la clasificación de texto utilizando un Pipeline de scikit-learn. Esto incluyó la vectorización con TF-IDF y la clasificación con un modelo Naive Bayes. La evaluación con el reporte de clasificación y la matriz de confusión nos permitió entender el rendimiento del modelo, identificando aciertos y errores.\n",
        "* Word Embeddings:\n",
        "\n",
        "Introdujimos los Word Embeddings como una forma más sofisticada de representar palabras en un espacio vectorial denso, donde las relaciones semánticas se capturan mediante la proximidad de los vectores. Observamos cómo modelos pre-entrenados como FastText pueden identificar palabras similares y resolver analogías, lo que demuestra su capacidad para comprender el significado contextual de las palabras."
      ],
      "metadata": {
        "id": "LcDlxKy29_zl"
      }
    }
  ]
}