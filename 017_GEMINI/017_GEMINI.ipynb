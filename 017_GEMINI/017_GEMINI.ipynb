{
  "nbformat": 4,
  "nbformat_minor": 0,
  "metadata": {
    "colab": {
      "provenance": [],
      "gpuType": "T4"
    },
    "kernelspec": {
      "name": "python3",
      "display_name": "Python 3"
    },
    "language_info": {
      "name": "python"
    },
    "accelerator": "GPU"
  },
  "cells": [
    {
      "cell_type": "markdown",
      "source": [
        "# Procesamiento de Lenguaje Natural con Google Gemini API\n",
        "Este script demuestra diversas aplicaciones de Procesamiento de Lenguaje Natural (PLN) utilizando el modelo Gemini de Google a través de la librería `google-generativeai`."
      ],
      "metadata": {
        "id": "KvvIHZvXyE2n"
      }
    },
    {
      "cell_type": "code",
      "execution_count": 1,
      "metadata": {
        "id": "5ZVm6CIouwgF",
        "colab": {
          "base_uri": "https://localhost:8080/"
        },
        "outputId": "a7c15efa-ca35-4fa7-f96d-d3e19abacff4"
      },
      "outputs": [
        {
          "output_type": "stream",
          "name": "stdout",
          "text": [
            "\u001b[?25l   \u001b[90m━━━━━━━━━━━━━━━━━━━━━━━━━━━━━━━━━━━━━━━━\u001b[0m \u001b[32m0.0/222.8 kB\u001b[0m \u001b[31m?\u001b[0m eta \u001b[36m-:--:--\u001b[0m\r\u001b[2K   \u001b[91m━━━━━━━━━━━━━━━━\u001b[0m\u001b[91m╸\u001b[0m\u001b[90m━━━━━━━━━━━━━━━━━━━━━━━\u001b[0m \u001b[32m92.2/222.8 kB\u001b[0m \u001b[31m6.5 MB/s\u001b[0m eta \u001b[36m0:00:01\u001b[0m\r\u001b[2K   \u001b[90m━━━━━━━━━━━━━━━━━━━━━━━━━━━━━━━━━━━━━━━━\u001b[0m \u001b[32m222.8/222.8 kB\u001b[0m \u001b[31m5.0 MB/s\u001b[0m eta \u001b[36m0:00:00\u001b[0m\n",
            "\u001b[?25h"
          ]
        }
      ],
      "source": [
        "%pip install -U -q google-genai"
      ]
    },
    {
      "cell_type": "code",
      "source": [
        "from google.colab import userdata\n",
        "import os\n",
        "\n",
        "GOOGLE_API_KEY = userdata.get('GOOGLE_API_KEY')"
      ],
      "metadata": {
        "id": "0xS2NWpqvWHX"
      },
      "execution_count": 3,
      "outputs": []
    },
    {
      "cell_type": "code",
      "source": [
        "from google import genai\n",
        "from google.genai import types\n",
        "\n",
        "cliente = genai.Client(api_key=GOOGLE_API_KEY)"
      ],
      "metadata": {
        "id": "sL2CGPN7vvHj"
      },
      "execution_count": 4,
      "outputs": []
    },
    {
      "cell_type": "markdown",
      "source": [
        "# Definición del texto de entrada"
      ],
      "metadata": {
        "id": "Cy_bZVjVyTbE"
      }
    },
    {
      "cell_type": "code",
      "source": [
        "# Texto base que utilizaremos para todos los ejemplos.\n",
        "\n",
        "text_to_process = \"\"\"Estimado Amazon, la semana pasada pedí una figura de acción de Optimus Prime\n",
        "en su tienda en línea en Alemania. Desafortunadamente, cuando abrí el paquete,\n",
        "descubrí con horror que me habían enviado una figura de acción de Megatron\n",
        "en su lugar. Como enemigo de toda la vida de los Decepticons, espero que pueda\n",
        "entender mi dilema. Para resolver el problema, exijo un cambio de Megatron por\n",
        "la figura de Optimus Prime que pedí. Adjunto copias de mis registros relativos\n",
        "a esta compra. Espero tener noticias suyas pronto. Atentamente, Bumblebee.\"\"\"\n",
        "\n",
        "print(\"\\nTexto de entrada definido.\")"
      ],
      "metadata": {
        "id": "_NwHWVYpv_Ji",
        "colab": {
          "base_uri": "https://localhost:8080/"
        },
        "outputId": "b8c5931b-141c-4633-b377-5f87e374e741"
      },
      "execution_count": 5,
      "outputs": [
        {
          "output_type": "stream",
          "name": "stdout",
          "text": [
            "\n",
            "Texto de entrada definido.\n"
          ]
        }
      ]
    },
    {
      "cell_type": "code",
      "source": [
        "MODEL_ID = \"gemini-2.0-flash\" # @param [\"gemini-2.0-flash-lite\",\"gemini-2.0-flash\",\"gemini-2.5-flash-preview-05-20\",\"gemini-2.5-pro-preview-05-06\"] {\"allow-input\":true, isTemplate: true}"
      ],
      "metadata": {
        "id": "msa42Srs1Mci"
      },
      "execution_count": 6,
      "outputs": []
    },
    {
      "cell_type": "markdown",
      "source": [
        "## 1. Sumarizacion"
      ],
      "metadata": {
        "id": "nR1SRBxf1Sma"
      }
    },
    {
      "cell_type": "code",
      "source": [
        "pregunta = f\"\"\"Sumariza el siguiente texto en dos oraciones de rapida lectura\n",
        "\n",
        "Texto: {text_to_process}\n",
        "\"\"\"\n",
        "\n",
        "respuesta = cliente.models.generate_content(\n",
        "    model=MODEL_ID,\n",
        "    contents=[pregunta] # Pasa la pregunta como contenido\n",
        ")\n",
        "print(respuesta.text)"
      ],
      "metadata": {
        "id": "zjLIg2OZ1Pby",
        "colab": {
          "base_uri": "https://localhost:8080/"
        },
        "outputId": "73234093-86a4-4689-913b-c9f0020aac25"
      },
      "execution_count": 7,
      "outputs": [
        {
          "output_type": "stream",
          "name": "stdout",
          "text": [
            "Bumblebee contacta a Amazon Alemania porque en lugar de su figura de acción de Optimus Prime, recibió una de Megatron por error. Exige que le cambien la figura equivocada por la que sí ordenó.\n",
            "\n"
          ]
        }
      ]
    },
    {
      "cell_type": "markdown",
      "source": [
        "##2. Clasificación de Sentimiento"
      ],
      "metadata": {
        "id": "A0XQRDI01INu"
      }
    },
    {
      "cell_type": "code",
      "source": [
        "pregunta = f\"\"\"Clasificá el siguiente texto como positivo, negativo o neutral y explicá por qué:\n",
        "\n",
        "Texto: {text_to_process}\n",
        "\"\"\"\n",
        "\n",
        "respuesta = cliente.models.generate_content(\n",
        "    model=MODEL_ID,\n",
        "    contents=[pregunta] # Pasa la pregunta como contenido\n",
        ")\n",
        "print(respuesta.text)"
      ],
      "metadata": {
        "id": "w59q68sb0og-",
        "colab": {
          "base_uri": "https://localhost:8080/"
        },
        "outputId": "647796e0-ae6c-49ca-c27f-9e36a3cfc48e"
      },
      "execution_count": 8,
      "outputs": [
        {
          "output_type": "stream",
          "name": "stdout",
          "text": [
            "El texto es **negativo**. Aquí te explico por qué:\n",
            "\n",
            "*   **Tono de decepción y frustración:** El uso de frases como \"con horror\" y \"mi dilema\" indica claramente que el cliente (Bumblebee) está insatisfecho y molesto con la situación.\n",
            "*   **Problema con el pedido:** Se presenta un problema claro: se recibió un producto incorrecto, lo cual es una experiencia negativa para cualquier cliente.\n",
            "*   **Exigencia de solución:** El cliente exige una solución (\"exijo un cambio\"), lo que implica que está descontento con el servicio recibido y espera que se corrija el error.\n",
            "*   **Implicación humorística:** Aunque el remitente se identifica como \"Bumblebee\" y menciona a \"Optimus Prime\" y \"Megatron\", lo que añade un toque humorístico, la base del mensaje sigue siendo una queja por un error en el pedido, lo que lo mantiene en territorio negativo.\n",
            "\n",
            "En resumen, aunque el texto tiene un toque ligero debido a la referencia a Transformers, la esencia del mensaje es la insatisfacción con un pedido incorrecto, lo que lo clasifica como negativo.\n"
          ]
        }
      ]
    },
    {
      "cell_type": "markdown",
      "source": [
        "##3. Reconocimiento de Entidades Nombradas (NER)"
      ],
      "metadata": {
        "id": "Eyjbk9Ij1mlD"
      }
    },
    {
      "cell_type": "code",
      "source": [
        "prompt = f\"\"\"Extraé todas las entidades nombradas del siguiente texto (personas, organizaciones, lugares, objetos) y clasificálas:\n",
        "\n",
        "Texto: {text_to_process}\n",
        "\"\"\"\n",
        "\n",
        "respuesta = cliente.models.generate_content(\n",
        "    model=MODEL_ID,\n",
        "    contents=[prompt] # Pasa la pregunta como contenido\n",
        ")\n",
        "print(respuesta.text)"
      ],
      "metadata": {
        "id": "0ZO0owXo1nqM",
        "colab": {
          "base_uri": "https://localhost:8080/"
        },
        "outputId": "0e0da05b-b2af-44e9-b01e-190bb86b7907"
      },
      "execution_count": 9,
      "outputs": [
        {
          "output_type": "stream",
          "name": "stdout",
          "text": [
            "Aquí están las entidades nombradas extraídas del texto, clasificadas por tipo:\n",
            "\n",
            "*   **Organizaciones:**\n",
            "    *   Amazon\n",
            "    *   Decepticons\n",
            "\n",
            "*   **Personas:**\n",
            "    *   Bumblebee\n",
            "\n",
            "*   **Lugares:**\n",
            "    *   Alemania\n",
            "\n",
            "*   **Objetos:**\n",
            "    *   Optimus Prime (Figura de acción)\n",
            "    *   Megatron (Figura de acción)\n"
          ]
        }
      ]
    },
    {
      "cell_type": "markdown",
      "source": [
        "##4. Respuesta a preguntas (Question Answering)"
      ],
      "metadata": {
        "id": "R7nLX8XA2ARy"
      }
    },
    {
      "cell_type": "code",
      "source": [
        "pregunta = \"¿Qué producto recibió el cliente?\"\n",
        "contexto = text_to_process\n",
        "\n",
        "prompt = f\"\"\"Respondé la siguiente pregunta basada en el texto:\n",
        "\n",
        "Texto: {contexto}\n",
        "Pregunta: {pregunta}\n",
        "\"\"\"\n",
        "\n",
        "respuesta = cliente.models.generate_content(\n",
        "    model=MODEL_ID,\n",
        "    contents=[contexto, pregunta] # Pasa la pregunta como contenido\n",
        ")\n",
        "print(respuesta.text)\n"
      ],
      "metadata": {
        "id": "_OJB5YkV2B0d",
        "colab": {
          "base_uri": "https://localhost:8080/"
        },
        "outputId": "9df6edb6-a7b7-4f4b-9abc-b0a3fd41e32d"
      },
      "execution_count": 10,
      "outputs": [
        {
          "output_type": "stream",
          "name": "stdout",
          "text": [
            "El cliente recibió una figura de acción de Megatron.\n",
            "\n"
          ]
        }
      ]
    },
    {
      "cell_type": "markdown",
      "source": [
        "##5. Resumen automático"
      ],
      "metadata": {
        "id": "teUpLbTm2iah"
      }
    },
    {
      "cell_type": "code",
      "source": [
        "prompt = f\"\"\"Resumí el siguiente texto en no más de 3 líneas:\n",
        "\n",
        "Texto: {text_to_process}\n",
        "\"\"\"\n",
        "\n",
        "respuesta = cliente.models.generate_content(\n",
        "    model=MODEL_ID,\n",
        "    contents=[prompt] # Pasa la pregunta como contenido\n",
        ")\n",
        "print(respuesta.text)\n"
      ],
      "metadata": {
        "id": "eU1ntrhI2iIC",
        "colab": {
          "base_uri": "https://localhost:8080/"
        },
        "outputId": "57ec46e9-44b0-4991-d497-6d254f2d5323"
      },
      "execution_count": 11,
      "outputs": [
        {
          "output_type": "stream",
          "name": "stdout",
          "text": [
            "Bumblebee recibió por error una figura de acción de Megatron en lugar del Optimus Prime que había pedido en Amazon Alemania. Exige un cambio por la figura correcta de Optimus Prime. Se adjuntan copias de los registros de compra.\n",
            "\n"
          ]
        }
      ]
    },
    {
      "cell_type": "markdown",
      "source": [
        "##6. Traducción (Español a Inglés)"
      ],
      "metadata": {
        "id": "tnd7hnBo254-"
      }
    },
    {
      "cell_type": "code",
      "source": [
        "prompt = f\"\"\"Traducí al inglés este texto:\n",
        "\n",
        "Texto: {text_to_process}\n",
        "\"\"\"\n",
        "\n",
        "respuesta = cliente.models.generate_content(\n",
        "    model=MODEL_ID,\n",
        "    contents=[prompt] # Pasa la pregunta como contenido\n",
        ")\n",
        "print(respuesta.text)\n"
      ],
      "metadata": {
        "id": "txSjXi-w2zOL",
        "colab": {
          "base_uri": "https://localhost:8080/"
        },
        "outputId": "3a456af9-42e7-4634-a8e4-b81f52238fd4"
      },
      "execution_count": 12,
      "outputs": [
        {
          "output_type": "stream",
          "name": "stdout",
          "text": [
            "Okay, here's the translation of the text into English:\n",
            "\n",
            "Dear Amazon,\n",
            "\n",
            "Last week I ordered an Optimus Prime action figure from your online store in Germany. Unfortunately, when I opened the package, I discovered to my horror that I had been sent a Megatron action figure instead. As a lifelong enemy of the Decepticons, I hope you can understand my dilemma. To resolve this issue, I demand an exchange of the Megatron for the Optimus Prime figure that I ordered. I have attached copies of my records relating to this purchase. I look forward to hearing from you soon.\n",
            "\n",
            "Sincerely,\n",
            "\n",
            "Bumblebee\n",
            "\n"
          ]
        }
      ]
    },
    {
      "cell_type": "markdown",
      "source": [
        "##7. Generación de respuesta (como atención al cliente)"
      ],
      "metadata": {
        "id": "n2ODoTLy3Cp9"
      }
    },
    {
      "cell_type": "code",
      "source": [
        "respuesta_inicial = \"Estimado cliente, lamentamos mucho lo ocurrido con su pedido. \"\n",
        "\n",
        "prompt = f\"\"\"{text_to_process}\n",
        "\n",
        "Redactá una respuesta del servicio de atención al cliente que comience así:\n",
        "\n",
        "\"{respuesta_inicial}\"\n",
        "\n",
        "Cuya extension no supere las 4 lineas.\n",
        "\"\"\"\n",
        "\n",
        "respuesta = cliente.models.generate_content(\n",
        "    model=MODEL_ID,\n",
        "    contents=[prompt] # Pasa la pregunta como contenido\n",
        ")\n",
        "print(respuesta.text)"
      ],
      "metadata": {
        "id": "WmAhcje23CTG",
        "colab": {
          "base_uri": "https://localhost:8080/"
        },
        "outputId": "2bb34ce4-6f0a-4bbb-d6c3-bab0befbd1fb"
      },
      "execution_count": 13,
      "outputs": [
        {
          "output_type": "stream",
          "name": "stdout",
          "text": [
            "Estimado cliente, lamentamos mucho lo ocurrido con su pedido. Entendemos su frustración por haber recibido una figura de Megatron en lugar de Optimus Prime. Estamos procesando el envío correcto y adjuntamos una etiqueta para la devolución gratuita de Megatron. Le informaremos cuando Optimus Prime esté en camino.\n",
            "\n"
          ]
        }
      ]
    },
    {
      "cell_type": "markdown",
      "source": [
        "##8. Clasificación Zero-Shot (sin entrenamiento previo)"
      ],
      "metadata": {
        "id": "dtVjz8gr3VGR"
      }
    },
    {
      "cell_type": "code",
      "source": [
        "etiquetas = [\"queja\", \"elogio\", \"consulta\", \"pedido\", \"agradecimiento\"]\n",
        "\n",
        "prompt = f\"\"\"Clasificá el siguiente texto en una de estas categorías: {', '.join(etiquetas)}. Justificá tu elección.\n",
        "\n",
        "Texto: {text_to_process}\n",
        "\"\"\"\n",
        "\n",
        "respuesta = cliente.models.generate_content(\n",
        "    model=MODEL_ID,\n",
        "    contents=[prompt] # Pasa la pregunta como contenido\n",
        ")\n",
        "print(respuesta.text)\n"
      ],
      "metadata": {
        "id": "UtHlUvEy3URy",
        "colab": {
          "base_uri": "https://localhost:8080/"
        },
        "outputId": "fb51e867-88e2-4db6-f985-a8f4ef54dde1"
      },
      "execution_count": 14,
      "outputs": [
        {
          "output_type": "stream",
          "name": "stdout",
          "text": [
            "El texto es una **queja**.\n",
            "\n",
            "**Justificación:**\n",
            "\n",
            "*   **Identifica un problema:** Bumblebee recibió un producto incorrecto (Megatron en lugar de Optimus Prime).\n",
            "*   **Expresa descontento:** Utiliza frases como \"con horror\" y \"mi dilema\" para expresar su insatisfacción con la situación.\n",
            "*   **Solicita una solución:** Exige un cambio del producto incorrecto por el producto que originalmente ordenó.\n",
            "\n",
            "Aunque el texto incluye un \"pedido\" (el cambio del producto), el enfoque principal es la expresión de la insatisfacción con el servicio recibido y la identificación de un problema, lo que lo clasifica principalmente como una queja.\n",
            "\n"
          ]
        }
      ]
    },
    {
      "cell_type": "markdown",
      "source": [
        "## EJERCICIO\n",
        "\n",
        "Escribí un texto corto sobre una experiencia personal en un transporte público en Buenos Aires.\n",
        "\n",
        "Luego, generá:\n",
        "\n",
        "- Un resumen.\n",
        "- Una clasificación de sentimiento.\n",
        "- Una lista de entidades nombradas."
      ],
      "metadata": {
        "id": "nOPQ22a63k0r"
      }
    },
    {
      "cell_type": "code",
      "source": [
        "texto = \"\"\"\n",
        "En mi vida diaria en Buenos Aires, el colectivo es un personaje más. Una mañana de martes, en pleno horario pico, subí al 45 en Callao y Corrientes.\n",
        "Ya desde la esquina se veía que venía explotado. Me apretujé como pude entre mochilas ajenas y conversaciones a medio terminar.\n",
        "El viaje fue una sinfonía de frenadas bruscas, el olor a chipá de una señora y la voz del chofer anunciando las paradas con un acento bien porteño, porque no le funcionaba el timbre.\n",
        "A la altura del Obelisco, la gente subía y bajaba en un ballet caótico, algunos con cara de dopados, otros con la paciencia de un zapallo.\n",
        "Pude ver por la ventanilla empañada cómo la ciudad despertaba, con sus librerías abriendo y los primeros oficinistas apurados.\n",
        "A pesar del amontonamiento, hay algo en esos viajes que me conecta con la esencia de Buenos Aires, un pulso constante que me recuerda que, a pesar del caos,\n",
        "todos estamos yendo hacia algún lado, compartiendo el mismo viaje, aunque sea por unos pocos kilómetros.\n",
        "Bajé en mi parada con la ropa con olor a sopa y con la sensación de haber vivido siempre en un basurero.\n",
        "\"\"\""
      ],
      "metadata": {
        "id": "shqZ2A2rK831"
      },
      "execution_count": 20,
      "outputs": []
    },
    {
      "cell_type": "markdown",
      "source": [
        "a) Resumen"
      ],
      "metadata": {
        "id": "GDRWwo_-Msnk"
      }
    },
    {
      "cell_type": "code",
      "source": [
        "prompt_2 = f\"\"\"Resumí el siguiente texto en no más de 3 líneas:\n",
        "\n",
        "Texto: {texto}\n",
        "\"\"\"\n",
        "\n",
        "respuesta_2 = cliente.models.generate_content(\n",
        "    model=MODEL_ID,\n",
        "    contents=[prompt_2] # Pasa la pregunta como contenido\n",
        ")\n",
        "print(respuesta_2.text)\n"
      ],
      "metadata": {
        "colab": {
          "base_uri": "https://localhost:8080/"
        },
        "id": "jHIsHiyOMutp",
        "outputId": "3433ebd9-f8b3-4489-cc4d-7dd15a6173e9"
      },
      "execution_count": 21,
      "outputs": [
        {
          "output_type": "stream",
          "name": "stdout",
          "text": [
            "Un viaje en colectivo de línea en hora pico en Buenos Aires es una experiencia caótica y sensorial, llena de olores, sonidos y apretujones. A pesar de la incomodidad, el viaje revela la esencia de la ciudad y la conexión entre sus habitantes. La experiencia deja una sensación agridulce, pero profundamente porteña.\n",
            "\n"
          ]
        }
      ]
    },
    {
      "cell_type": "markdown",
      "source": [
        "b) Una clasificación de sentimiento."
      ],
      "metadata": {
        "id": "_V2zw8haNEuJ"
      }
    },
    {
      "cell_type": "code",
      "source": [
        "pregunta_2 = f\"\"\"Clasificá el siguiente texto como positivo, negativo o neutral y explicá por qué:\n",
        "\n",
        "Texto: {texto}\n",
        "\"\"\"\n",
        "\n",
        "respuesta = cliente.models.generate_content(\n",
        "    model=MODEL_ID,\n",
        "    contents=[pregunta_2] # Pasa la pregunta como contenido\n",
        ")\n",
        "print(respuesta.text)"
      ],
      "metadata": {
        "colab": {
          "base_uri": "https://localhost:8080/"
        },
        "id": "RdpKoEs3NgQv",
        "outputId": "4cf9e81e-7a0e-4dde-8a87-cc8446478426"
      },
      "execution_count": 22,
      "outputs": [
        {
          "output_type": "stream",
          "name": "stdout",
          "text": [
            "El texto es **principalmente neutral con toques negativos al final**.\n",
            "\n",
            "Aquí está el porqué:\n",
            "\n",
            "*   **Neutral/Positivo en la Mayor Parte:** La descripción del viaje en colectivo es realista y observacional. Se mencionan aspectos típicos de la experiencia: la multitud, los olores, el ruido, el acento del chofer, la gente que sube y baja. El autor encuentra una conexión con la esencia de Buenos Aires a pesar del caos, apreciando el pulso constante de la ciudad y la idea de compartir un viaje común.\n",
            "\n",
            "*   **Negativo al Final:** Las últimas dos frases introducen elementos claramente negativos: \"ropa con olor a sopa\" y \"sensación de haber vivido siempre en un basurero\". Estas frases contrastan fuertemente con la reflexión anterior sobre la esencia de Buenos Aires y dejan una impresión final desagradable.\n",
            "\n",
            "**En Resumen:** Si bien el texto captura una escena cotidiana con cierto cariño y aprecio por la ciudad, el contraste con la conclusión es abrupto y cala hondo. Considero que se puede clasificar como neutral, con la connotación de que podría ser positivo si no fuera por el final negativo.\n"
          ]
        }
      ]
    },
    {
      "cell_type": "markdown",
      "source": [
        "c) Una lista de entidades nombradas"
      ],
      "metadata": {
        "id": "YZEfqjhNN9L9"
      }
    },
    {
      "cell_type": "code",
      "source": [
        "prompt_3 = f\"\"\"Extraé todas las entidades nombradas del siguiente texto (personas, organizaciones, lugares, objetos) y clasificálas:\n",
        "\n",
        "Texto: {texto}\n",
        "\"\"\"\n",
        "\n",
        "respuesta_3 = cliente.models.generate_content(\n",
        "    model=MODEL_ID,\n",
        "    contents=[prompt_3] # Pasa la pregunta como contenido\n",
        ")\n",
        "print(respuesta_3.text)"
      ],
      "metadata": {
        "colab": {
          "base_uri": "https://localhost:8080/"
        },
        "id": "IG-FBHTPN-3G",
        "outputId": "bdfc0b2c-0f36-40bd-caf3-2bda96f8a5a3"
      },
      "execution_count": 23,
      "outputs": [
        {
          "output_type": "stream",
          "name": "stdout",
          "text": [
            "Aquí están las entidades nombradas extraídas del texto, clasificadas por categoría:\n",
            "\n",
            "*   **Lugares:**\n",
            "    *   Buenos Aires\n",
            "    *   Callao y Corrientes\n",
            "    *   Obelisco\n",
            "\n",
            "*   **Objetos:**\n",
            "    *   Colectivo (en el contexto de transporte público)\n",
            "    *   Chipá\n",
            "    *   Timbre\n",
            "\n",
            "*   **Personas:**\n",
            "    *   Chofer\n",
            "\n",
            "*   **Organizaciones:**\n",
            "    *   No hay organizaciones mencionadas en el texto.\n",
            "\n",
            "*   **Otros:**\n",
            "    *   45 (Número de línea de colectivo)\n",
            "\n"
          ]
        }
      ]
    }
  ]
}