{
  "nbformat": 4,
  "nbformat_minor": 0,
  "metadata": {
    "colab": {
      "provenance": [],
      "gpuType": "T4"
    },
    "kernelspec": {
      "name": "python3",
      "display_name": "Python 3"
    },
    "language_info": {
      "name": "python"
    },
    "accelerator": "GPU"
  },
  "cells": [
    {
      "cell_type": "markdown",
      "source": [
        "# Sistema de Detección de Quejas y Soporte Automático para E-commerce"
      ],
      "metadata": {
        "id": "r7FJZMYZRWIf"
      }
    },
    {
      "cell_type": "markdown",
      "source": [
        "## Importación de librerías"
      ],
      "metadata": {
        "id": "Upl_EtfIRyct"
      }
    },
    {
      "cell_type": "code",
      "source": [
        "import pandas as pd\n",
        "import gradio as gr"
      ],
      "metadata": {
        "id": "8iH-UL818hyD"
      },
      "execution_count": 39,
      "outputs": []
    },
    {
      "cell_type": "code",
      "source": [
        "pd.set_option('display.max_colwidth', None)"
      ],
      "metadata": {
        "id": "rYk1Tr519UDb"
      },
      "execution_count": 40,
      "outputs": []
    },
    {
      "cell_type": "code",
      "source": [
        "from google.colab import userdata\n",
        "import os\n",
        "\n",
        "GOOGLE_API_KEY = userdata.get('GOOGLE_API_KEY')"
      ],
      "metadata": {
        "id": "c7dUS9Eg9WK6"
      },
      "execution_count": 41,
      "outputs": []
    },
    {
      "cell_type": "code",
      "source": [
        "from difflib import get_close_matches"
      ],
      "metadata": {
        "id": "ADMw4ZY2-BNL"
      },
      "execution_count": 42,
      "outputs": []
    },
    {
      "cell_type": "code",
      "source": [
        "from google import genai\n",
        "from google.genai import types\n",
        "\n",
        "cliente = genai.Client(api_key=GOOGLE_API_KEY)"
      ],
      "metadata": {
        "id": "-uyFtqbO9Xlq"
      },
      "execution_count": 43,
      "outputs": []
    },
    {
      "cell_type": "code",
      "source": [
        "MODEL_ID = \"gemini-2.0-flash-lite\" # @param [\"gemini-2.0-flash-lite\",\"gemini-2.0-flash\",\"gemini-2.5-flash-preview-05-20\",\"gemini-2.5-pro-preview-05-06\"] {\"allow-input\":true, isTemplate: true}"
      ],
      "metadata": {
        "id": "6NQz1u3E9X7K"
      },
      "execution_count": 44,
      "outputs": []
    },
    {
      "cell_type": "markdown",
      "source": [
        "## Dataset Simulado"
      ],
      "metadata": {
        "id": "yov6_MhT8lFz"
      }
    },
    {
      "cell_type": "code",
      "execution_count": 45,
      "metadata": {
        "id": "1KRCHkYg5lP5"
      },
      "outputs": [],
      "source": [
        "# --- 1. Dataset simulado ---\n",
        "tickets = [\n",
        "    {\"mensaje\": \"La cafetera llegó hecha pelota, una vergüenza. ¿Quién embala estas cosas?\", \"sentimiento\": \"Negativo\", \"categoria\": \"Producto defectuoso\"},\n",
        "    {\"mensaje\": \"Todo perfecto, la entrega fue rapidísima. Gracias por la atención.\", \"sentimiento\": \"Positivo\", \"categoria\": \"Elogio\"},\n",
        "    {\"mensaje\": \"¿Tienen en stock el aire acondicionado BGH de 3000 frigorías?\", \"sentimiento\": \"Neutro\", \"categoria\": \"Consulta de stock\"},\n",
        "    {\"mensaje\": \"Che, ¿dónde está mi compra? Hace mil que la pagué y no aparece nada.\", \"sentimiento\": \"Negativo\", \"categoria\": \"Pedido no entregado\"},\n",
        "    {\"mensaje\": \"Me cobraron dos veces el mismo pedido, arreglen eso urgente.\", \"sentimiento\": \"Negativo\", \"categoria\": \"Problema con pago\"},\n",
        "    {\"mensaje\": \"El horno llegó justo a tiempo para el cumple, ¡genios!\", \"sentimiento\": \"Positivo\", \"categoria\": \"Elogio\"},\n",
        "    {\"mensaje\": \"No puedo entrar a mi cuenta desde ayer, me tira error 503.\", \"sentimiento\": \"Negativo\", \"categoria\": \"Problema de acceso\"},\n",
        "    {\"mensaje\": \"Necesito la factura del pedido #90876. ¿Dónde la encuentro?\", \"sentimiento\": \"Neutro\", \"categoria\": \"Consulta de facturación\"},\n",
        "    {\"mensaje\": \"Pedí una tablet negra y me mandaron la blanca, ¿cómo lo soluciono?\", \"sentimiento\": \"Negativo\", \"categoria\": \"Error en el pedido\"},\n",
        "    {\"mensaje\": \"No me contestan hace días, ¿hay alguien del otro lado?\", \"sentimiento\": \"Negativo\", \"categoria\": \"Falta de atención\"},\n",
        "    {\"mensaje\": \"Gracias por el excelente servicio, volveré a comprar.\", \"sentimiento\": \"Positivo\", \"categoria\": \"Elogio\"},\n",
        "    {\"mensaje\": \"¿Cuándo reponen el celular Motorola G200? Estoy esperando.\", \"sentimiento\": \"Neutro\", \"categoria\": \"Consulta de stock\"},\n",
        "    {\"mensaje\": \"Ya pasaron 10 días y el paquete no llega, ¿qué onda?\", \"sentimiento\": \"Negativo\", \"categoria\": \"Retraso en envío\"},\n",
        "    {\"mensaje\": \"Felicitaciones, el empaque estaba impecable y llegó antes de lo previsto.\", \"sentimiento\": \"Positivo\", \"categoria\": \"Elogio\"},\n",
        "    {\"mensaje\": \"¿Cómo hago para descargar la factura de mi última compra?\", \"sentimiento\": \"Neutro\", \"categoria\": \"Consulta de facturación\"}\n",
        "]"
      ]
    },
    {
      "cell_type": "code",
      "source": [
        "df_tickets = pd.DataFrame(tickets)"
      ],
      "metadata": {
        "id": "Z8KBgd5d8gAb"
      },
      "execution_count": 46,
      "outputs": []
    },
    {
      "cell_type": "markdown",
      "source": [
        "## Clasificación Automática (Sentimiento + Categoría)"
      ],
      "metadata": {
        "id": "kFLIx2dV-fxL"
      }
    },
    {
      "cell_type": "code",
      "source": [
        "# --- 2. Etiquetas para clasificación de categoría ---\n",
        "etiquetas = [\n",
        "    \"Producto defectuoso\",\n",
        "    \"Pedido no entregado\",\n",
        "    \"Retraso en envío\",\n",
        "    \"Problema con pago\",\n",
        "    \"Error en el pedido\",\n",
        "    \"Problema de acceso\",\n",
        "    \"Falta de atención\",\n",
        "    \"Consulta de stock\",\n",
        "    \"Elogio\",\n",
        "    \"Consulta de facturación\"\n",
        "]"
      ],
      "metadata": {
        "id": "wdmC7eQL92rk"
      },
      "execution_count": 47,
      "outputs": []
    },
    {
      "cell_type": "code",
      "source": [
        "# --- 3. Función para normalizar la salida del modelo para sentimiento ---\n",
        "def normalizar_sentimiento(valor):\n",
        "    valor = valor.lower().strip()\n",
        "    if \"positiv\" in valor:\n",
        "        return \"Positivo\"\n",
        "    elif \"negativ\" in valor:\n",
        "        return \"Negativo\"\n",
        "    else:\n",
        "        return \"Neutro\""
      ],
      "metadata": {
        "id": "jH-DMAId96Cz"
      },
      "execution_count": 48,
      "outputs": []
    },
    {
      "cell_type": "code",
      "source": [
        "# --- 4. Función para normalizar la salida del modelo para categoría usando fuzzy match ---\n",
        "def normalizar_categoria(valor, etiquetas):\n",
        "    match = get_close_matches(valor.strip(), etiquetas, n=1, cutoff=0.6)\n",
        "    return match[0] if match else \"Categoría desconocida\""
      ],
      "metadata": {
        "id": "wXzRxDVd973c"
      },
      "execution_count": 49,
      "outputs": []
    },
    {
      "cell_type": "code",
      "source": [
        "# --- 5. Función de clasificación de sentimiento usando Gemini API (u otro LLM) ---\n",
        "def clasificar_sentimiento(row):\n",
        "    mensaje = row['mensaje']\n",
        "    prompt = f\"\"\"\n",
        "Clasificá este mensaje del cliente en una sola palabra: Positivo, Negativo o Neutro.\n",
        "Devolvé solo la palabra, sin comillas ni explicaciones.\n",
        "\n",
        "Mensaje: {mensaje}\n",
        "\"\"\"\n",
        "    respuesta = cliente.models.generate_content(\n",
        "        model=MODEL_ID,\n",
        "        contents=[prompt]\n",
        "    )\n",
        "    return normalizar_sentimiento(respuesta.text.strip())"
      ],
      "metadata": {
        "id": "Z02nhycc-FGb"
      },
      "execution_count": 50,
      "outputs": []
    },
    {
      "cell_type": "code",
      "source": [
        "# --- 6. Función de clasificación de categoría usando Zero-Shot ---\n",
        "def clasificar_categoria(row):\n",
        "    mensaje = row['mensaje']\n",
        "    prompt = f\"\"\"\n",
        "Clasificá el siguiente mensaje del cliente eligiendo solo una de estas categorías exactas, sin explicar:\n",
        "{', '.join(etiquetas)}.\n",
        "\n",
        "Devolvé únicamente una de las categorías anteriores, sin comillas ni texto adicional.\n",
        "\n",
        "Mensaje: {mensaje}\n",
        "\"\"\"\n",
        "    respuesta = cliente.models.generate_content(\n",
        "        model=MODEL_ID,\n",
        "        contents=[prompt]\n",
        "    )\n",
        "    return normalizar_categoria(respuesta.text.strip(), etiquetas)"
      ],
      "metadata": {
        "id": "z_7xg4XP-HEF"
      },
      "execution_count": 51,
      "outputs": []
    },
    {
      "cell_type": "code",
      "source": [
        "# --- 7. Aplicamos las funciones al DataFrame ---\n",
        "df_tickets['sentimiento_pred'] = df_tickets.apply(clasificar_sentimiento, axis=1)\n",
        "df_tickets['categoria_pred'] = df_tickets.apply(clasificar_categoria, axis=1)"
      ],
      "metadata": {
        "id": "6TUdqa41-IzT"
      },
      "execution_count": 52,
      "outputs": []
    },
    {
      "cell_type": "code",
      "source": [
        "# --- 8. Evaluación: comparamos con etiquetas manuales ---\n",
        "df_tickets['sentimiento_match'] = df_tickets['sentimiento'] == df_tickets['sentimiento_pred']\n",
        "df_tickets['categoria_match'] = df_tickets['categoria'] == df_tickets['categoria_pred']"
      ],
      "metadata": {
        "id": "7ZBcSWeA-M4U"
      },
      "execution_count": null,
      "outputs": []
    },
    {
      "cell_type": "code",
      "source": [
        "# --- 9. Métricas de precisión ---\n",
        "print(\" Accuracy sentimiento:\", round(df_tickets['sentimiento_match'].mean()*100, 2), \"%\")\n",
        "print(\" Accuracy categoría:\", round(df_tickets['categoria_match'].mean()*100, 2), \"%\")"
      ],
      "metadata": {
        "colab": {
          "base_uri": "https://localhost:8080/"
        },
        "id": "3dbTyMk0-Oib",
        "outputId": "ef1b3d00-c36c-4d92-c312-12a436b05b51"
      },
      "execution_count": 54,
      "outputs": [
        {
          "output_type": "stream",
          "name": "stdout",
          "text": [
            " Accuracy sentimiento: 100.0 %\n",
            " Accuracy categoría: 93.33 %\n"
          ]
        }
      ]
    },
    {
      "cell_type": "code",
      "source": [
        "# --- 10. Mostrar los errores para análisis ---\n",
        "errores = df_tickets[(~df_tickets['sentimiento_match']) | (~df_tickets['categoria_match'])]\n",
        "print(\"\\n Casos con discrepancias:\\n\")\n",
        "print(errores[['mensaje', 'sentimiento', 'sentimiento_pred', 'categoria', 'categoria_pred']])"
      ],
      "metadata": {
        "colab": {
          "base_uri": "https://localhost:8080/"
        },
        "id": "6Ho7IxyA-REa",
        "outputId": "b07c73dc-a5af-4bdc-8a17-eb1225d66da0"
      },
      "execution_count": 55,
      "outputs": [
        {
          "output_type": "stream",
          "name": "stdout",
          "text": [
            "\n",
            " Casos con discrepancias:\n",
            "\n",
            "                                                 mensaje sentimiento  \\\n",
            "12  Ya pasaron 10 días y el paquete no llega, ¿qué onda?    Negativo   \n",
            "\n",
            "   sentimiento_pred         categoria       categoria_pred  \n",
            "12         Negativo  Retraso en envío  Pedido no entregado  \n"
          ]
        }
      ]
    },
    {
      "cell_type": "markdown",
      "source": [
        "Tras aplicar un modelo de lenguaje grande (LLM) para la clasificación automática de sentimiento y categoría sobre un dataset simulado de 15 tickets de soporte al cliente, se obtuvieron los siguientes resultados:\n",
        "\n",
        "* Precisión en sentimiento: 100%\n",
        "\n",
        "* Precisión en categorías: 93,33%\n",
        "\n",
        "Estos resultados reflejan un desempeño muy positivo del modelo, especialmente en la detección del tono emocional de los mensajes, incluso en presencia de jerga coloquial argentina (ej. \"hecha pelota\", \"qué onda\", \"che\")."
      ],
      "metadata": {
        "id": "6q7pQ1b9_SNu"
      }
    },
    {
      "cell_type": "markdown",
      "source": [
        "### Análisis de la discrepancia detectada\n",
        "\n",
        "El único caso de discordancia fue el siguiente:\n",
        "\n",
        "* Mensaje: “Ya pasaron 10 días y el paquete no llega, ¿qué onda?”\n",
        "* Etiqueta manual: Retraso en envío\n",
        "* Predicción del modelo: Pedido no entregado\n",
        "\n",
        "Si bien ambas categorías están relacionadas, la elección del modelo sugiere una interpretación más binaria (“no entregado” vs. “retrasado”). Esta confusión es comprensible, ya que el límite entre ambas categorías puede ser ambiguo desde el lenguaje natural, especialmente sin contexto adicional (por ejemplo, un historial del pedido)."
      ],
      "metadata": {
        "id": "YZrZLoI8_Xnr"
      }
    },
    {
      "cell_type": "markdown",
      "source": [
        "### Algunas conclusiones\n",
        "\n",
        "El modelo mostró alta capacidad de comprensión del lenguaje informal y fue consistente con las etiquetas manuales en casi todos los casos.\n",
        "\n",
        "Las discrepancias detectadas son semánticamente comprensibles y podrían reducirse aún más con un refinamiento en la definición de las categorías o ejemplos adicionales en los prompts.\n",
        "\n",
        "Este tipo de sistema demuestra una buena viabilidad para automatizar la clasificación inicial de tickets, especialmente como herramienta de triage para priorizar y derivar consultas."
      ],
      "metadata": {
        "id": "1oB2Jenu_s97"
      }
    },
    {
      "cell_type": "markdown",
      "source": [
        "### Limitaciones y desafíos\n",
        "\n",
        "La categoría “Retraso en envío” vs. “Pedido no entregado” ilustra que algunas etiquetas requieren contexto temporal o logístico que el modelo no tiene por defecto.\n",
        "\n",
        "Podría evaluarse el uso de modelos fine-tuned si se busca precisión aún mayor, o reformular la taxonomía para agrupar categorías similares."
      ],
      "metadata": {
        "id": "Im4a87fx_62L"
      }
    },
    {
      "cell_type": "markdown",
      "source": [
        "## Extracción de Información Clave (NER o QA)"
      ],
      "metadata": {
        "id": "o2zsXPml-mZL"
      }
    },
    {
      "cell_type": "code",
      "source": [
        "import time\n",
        "\n",
        "MAX_RETRIES = 5  # Máximo intentos para reintentar después de error 429\n",
        "BASE_DELAY = 2   # Segundos base para el backoff exponencial"
      ],
      "metadata": {
        "id": "OrEvGT3FCSsN"
      },
      "execution_count": 56,
      "outputs": []
    },
    {
      "cell_type": "code",
      "source": [
        "# --- 1. Función para el manejo del error 429 (RESOURCE_EXHAUSTED)---\n",
        "def llamada_api_con_retry(prompt):\n",
        "    for intento in range(1, MAX_RETRIES + 1):\n",
        "        try:\n",
        "            respuesta = cliente.models.generate_content(\n",
        "                model=MODEL_ID,\n",
        "                contents=[prompt]\n",
        "            )\n",
        "            time.sleep(1)  # Pausa para evitar saturar API\n",
        "            return respuesta.text.strip()\n",
        "        except Exception as e:\n",
        "            # Detectamos error de cuota agotada (429)\n",
        "            if 'RESOURCE_EXHAUSTED' in str(e) or '429' in str(e):\n",
        "                delay = BASE_DELAY * (2 ** (intento - 1))  # Backoff exponencial\n",
        "                print(f\"Error 429 detectado. Reintentando en {delay} segundos... (Intento {intento}/{MAX_RETRIES})\")\n",
        "                time.sleep(delay)\n",
        "                continue\n",
        "            else:\n",
        "                # Otro error, lo propagamos o retornamos mensaje\n",
        "                print(f\"Error inesperado: {e}\")\n",
        "                return f\"Error al procesar el texto: {e}\"\n",
        "    return \"Error: Se agotaron los intentos por error 429.\"\n"
      ],
      "metadata": {
        "id": "4qrHs5tzCoKb"
      },
      "execution_count": 57,
      "outputs": []
    },
    {
      "cell_type": "code",
      "source": [
        "# --- 2. Función para extraer entidades nombradas (NER simulado con prompt) ---\n",
        "def analizar_entidades(row):\n",
        "    mensaje = row['mensaje']\n",
        "    prompt = f\"\"\"\n",
        "Extraé todas las entidades nombradas en el siguiente mensaje y clasificálas:\n",
        "\n",
        "CATEGORÍAS:\n",
        "- PERSONA: Nombres de personas\n",
        "- LUGAR: Ciudades, países, barrios, direcciones, lugares específicos\n",
        "- ORGANIZACIÓN: Empresas, universidades, instituciones\n",
        "- MISCELÁNEO: Otros nombres propios (productos, eventos, marcas)\n",
        "\n",
        "FORMATO DE RESPUESTA:\n",
        "[ENTIDAD] → [CATEGORÍA] → [BREVE EXPLICACIÓN]\n",
        "\n",
        "Texto:\n",
        "{mensaje}\n",
        "\"\"\"\n",
        "    return llamada_api_con_retry(prompt)"
      ],
      "metadata": {
        "id": "8E83N6YUBC_z"
      },
      "execution_count": 58,
      "outputs": []
    },
    {
      "cell_type": "code",
      "source": [
        "# --- 3. Función para responder preguntas específicas (QA) ---\n",
        "def responder_preguntas(row):\n",
        "    mensaje = row['mensaje']\n",
        "    prompt = f\"\"\"Basado en el siguiente texto, respondé las siguientes preguntas en formato de lista:\n",
        "Texto: {mensaje}\n",
        "\n",
        "Preguntas:\n",
        "- ¿Qué producto menciona el cliente?\n",
        "- ¿Cuál es el problema principal del cliente?\n",
        "- ¿Dónde ocurrió el problema?\n",
        "- ¿Se menciona algún número de pedido?\n",
        "\n",
        "Formato de respuesta:\n",
        "[Producto: <respuesta>, Problema: <respuesta>, Ubicación: <respuesta>, Pedido: <respuesta>]\n",
        "Si la información no está disponible, respondé \"No especificado\".\n",
        "\"\"\"\n",
        "    return llamada_api_con_retry(prompt)"
      ],
      "metadata": {
        "id": "V4VIj38lBDoj"
      },
      "execution_count": 59,
      "outputs": []
    },
    {
      "cell_type": "markdown",
      "source": [
        "## Generación de Respuesta Automática"
      ],
      "metadata": {
        "id": "VEMOLU3jFLsL"
      }
    },
    {
      "cell_type": "code",
      "source": [
        "# --- 1. Función para generar respuesta de atención al cliente ---\n",
        "def respuesta_per(row):\n",
        "    mensaje = row['mensaje']\n",
        "    prompt = f\"\"\"Basado en el siguiente mensaje, redactá una respuesta del servicio al cliente. La respuesta tiene que ser\n",
        "empática, debe reconocer el problema y sugerir el siguiente paso. No debe tener más de 4 líneas.\n",
        "\n",
        "Texto: {mensaje}\n",
        "\"\"\"\n",
        "    return llamada_api_con_retry(prompt)"
      ],
      "metadata": {
        "id": "Jr3cP9yLBF1L"
      },
      "execution_count": 60,
      "outputs": []
    },
    {
      "cell_type": "code",
      "source": [
        "# --- 2. Aplicamos las funciones al DataFrame ---\n",
        "df_tickets['entidades'] = df_tickets.apply(analizar_entidades, axis=1)\n",
        "df_tickets['respuestas_qa'] = df_tickets.apply(responder_preguntas, axis=1)\n",
        "df_tickets['respuesta_llm'] = df_tickets.apply(respuesta_per, axis=1)"
      ],
      "metadata": {
        "id": "ORenVxXJBIPc"
      },
      "execution_count": 62,
      "outputs": []
    },
    {
      "cell_type": "code",
      "source": [
        "# --- 6. Visualizamos resultados para verificar ---\n",
        "for i, fila in df_tickets.iterrows():\n",
        "    print(f\"Ticket #{i+1}:\")\n",
        "    print(f\"Mensaje: {fila['mensaje']}\")\n",
        "    print(f\"Entidades extraídas:\\n{fila['entidades']}\")\n",
        "    print(f\"Respuestas a preguntas:\\n{fila['respuestas_qa']}\")\n",
        "    print(f\"Respuesta generada por LLM:\\n{fila['respuesta_llm']}\")\n",
        "    print(\"-\" * 50)"
      ],
      "metadata": {
        "colab": {
          "base_uri": "https://localhost:8080/"
        },
        "id": "EfJdoVprBJjL",
        "outputId": "32b638b4-9acf-44fd-964d-3f333b980233"
      },
      "execution_count": 63,
      "outputs": [
        {
          "output_type": "stream",
          "name": "stdout",
          "text": [
            "Ticket #1:\n",
            "Mensaje: La cafetera llegó hecha pelota, una vergüenza. ¿Quién embala estas cosas?\n",
            "Entidades extraídas:\n",
            "Aquí están las entidades nombradas y sus categorías:\n",
            "\n",
            "*   **Ninguna entidad nombrada identificada** → **Ninguna categoría** → El texto no contiene nombres propios de personas, lugares, organizaciones o misceláneos.\n",
            "Respuestas a preguntas:\n",
            "[Producto: Cafetera, Problema: La cafetera llegó dañada, Ubicación: No especificado, Pedido: No especificado]\n",
            "Respuesta generada por LLM:\n",
            "Lamentamos mucho que tu cafetera haya llegado dañada. Es una clara falta de cuidado.\n",
            "\n",
            "Por favor, contacta a nuestro equipo de soporte técnico con fotos del daño y el número de pedido. \n",
            "Te asistiremos con la resolución a la brevedad.\n",
            "--------------------------------------------------\n",
            "Ticket #2:\n",
            "Mensaje: Todo perfecto, la entrega fue rapidísima. Gracias por la atención.\n",
            "Entidades extraídas:\n",
            "El mensaje no contiene ninguna entidad nombrada.\n",
            "Respuestas a preguntas:\n",
            "[Producto: No especificado, Problema: No especificado, Ubicación: No especificado, Pedido: No especificado]\n",
            "Respuesta generada por LLM:\n",
            "¡Nos alegra mucho saber que la entrega fue rápida y que estás satisfecho! Agradecemos tu amable comentario. Si necesitas algo más, no dudes en contactarnos. ¡Que disfrutes tu compra!\n",
            "--------------------------------------------------\n",
            "Ticket #3:\n",
            "Mensaje: ¿Tienen en stock el aire acondicionado BGH de 3000 frigorías?\n",
            "Entidades extraídas:\n",
            "*   BGH → ORGANIZACIÓN → Marca de electrodomésticos.\n",
            "Respuestas a preguntas:\n",
            "[Producto: Aire acondicionado BGH de 3000 frigorías, Problema: Saber si está en stock, Ubicación: No especificado, Pedido: No especificado]\n",
            "Respuesta generada por LLM:\n",
            "¡Hola! Entendemos tu interés en el aire acondicionado BGH de 3000 frigorías. Lamentablemente, en este momento no tenemos stock disponible. Te sugerimos que revises nuestra página web o te contactes con nosotros la semana próxima para verificar la disponibilidad.\n",
            "--------------------------------------------------\n",
            "Ticket #4:\n",
            "Mensaje: Che, ¿dónde está mi compra? Hace mil que la pagué y no aparece nada.\n",
            "Entidades extraídas:\n",
            "No hay entidades nombradas en el texto.\n",
            "Respuestas a preguntas:\n",
            "[Producto: No especificado, Problema: No ha recibido la compra que pagó, Ubicación: No especificado, Pedido: No especificado]\n",
            "Respuesta generada por LLM:\n",
            "¡Hola! Entiendo tu frustración, lamento mucho la demora en tu compra.  Verificaremos el estado de tu pedido y te daremos una actualización en las próximas 24 horas.\n",
            "--------------------------------------------------\n",
            "Ticket #5:\n",
            "Mensaje: Me cobraron dos veces el mismo pedido, arreglen eso urgente.\n",
            "Entidades extraídas:\n",
            "No hay entidades nombradas en el texto proporcionado.\n",
            "Respuestas a preguntas:\n",
            "[Producto: No especificado, Problema: Cobro duplicado del pedido, Ubicación: No especificado, Pedido: No especificado]\n",
            "Respuesta generada por LLM:\n",
            "Lamentamos mucho las molestias ocasionadas por el doble cobro. Comprendemos tu urgencia y estamos aquí para ayudarte. Te pedimos que nos envíes el comprobante del cargo doble para poder iniciar la investigación y solucionar el problema.\n",
            "--------------------------------------------------\n",
            "Ticket #6:\n",
            "Mensaje: El horno llegó justo a tiempo para el cumple, ¡genios!\n",
            "Entidades extraídas:\n",
            "Aquí está la extracción de entidades nombradas del texto proporcionado:\n",
            "\n",
            "*   ¡genios! → PERSONA → Referencia a un grupo de personas, probablemente los que entregaron el horno.\n",
            "Respuestas a preguntas:\n",
            "[Producto: horno, Problema: No especificado, Ubicación: No especificado, Pedido: No especificado]\n",
            "Respuesta generada por LLM:\n",
            "¡Nos alegra muchísimo que el horno llegara a tiempo y que te haya gustado! Entendemos la importancia de que todo salga perfecto para el cumpleaños. Si tenés alguna pregunta, no dudes en contactarnos.\n",
            "--------------------------------------------------\n",
            "Ticket #7:\n",
            "Mensaje: No puedo entrar a mi cuenta desde ayer, me tira error 503.\n",
            "Entidades extraídas:\n",
            "Aquí están las entidades nombradas extraídas del texto, clasificadas según las categorías proporcionadas:\n",
            "\n",
            "*   **503** → **MISCELÁNEO** → Código de error.\n",
            "Respuestas a preguntas:\n",
            "[Producto: No especificado, Problema: No puede acceder a su cuenta (error 503), Ubicación: No especificado, Pedido: No especificado]\n",
            "Respuesta generada por LLM:\n",
            "Lamentamos mucho que estés teniendo problemas para acceder a tu cuenta. Entendemos lo frustrante que puede ser.\n",
            "\n",
            "Para solucionar esto, por favor, intenta restablecer tu contraseña. Si el error persiste, contáctanos nuevamente.\n",
            "--------------------------------------------------\n",
            "Ticket #8:\n",
            "Mensaje: Necesito la factura del pedido #90876. ¿Dónde la encuentro?\n",
            "Entidades extraídas:\n",
            "[#90876] → [MISCELÁNEO] → Número de pedido.\n",
            "Respuestas a preguntas:\n",
            "[Producto: No especificado, Problema: Necesita la factura, Ubicación: No especificado, Pedido: #90876]\n",
            "Respuesta generada por LLM:\n",
            "Entiendo la necesidad de tu factura del pedido #90876. No te preocupes, te ayudaré a obtenerla.\n",
            "\n",
            "Por favor, revisa tu correo electrónico, ya que la enviamos allí tras la confirmación del pedido.\n",
            "\n",
            "Si no la encuentras, avísame y la reenviaré de inmediato.\n",
            "--------------------------------------------------\n",
            "Ticket #9:\n",
            "Mensaje: Pedí una tablet negra y me mandaron la blanca, ¿cómo lo soluciono?\n",
            "Entidades extraídas:\n",
            "Aquí están las entidades nombradas extraídas del texto y clasificadas:\n",
            "\n",
            "*   **NINGUNA** → **NINGUNA** → No hay entidades nombradas en el texto.\n",
            "Respuestas a preguntas:\n",
            "[Producto: Tablet, Problema: Recibió una tablet blanca en lugar de una negra, Ubicación: No especificado, Pedido: No especificado]\n",
            "Respuesta generada por LLM:\n",
            "Lamentamos mucho la confusión con tu pedido.  Entendemos tu frustración. Por favor, contacta a nuestro servicio de devoluciones a [enlace o número] para iniciar el cambio.  Te asistiremos con gusto.\n",
            "--------------------------------------------------\n",
            "Ticket #10:\n",
            "Mensaje: No me contestan hace días, ¿hay alguien del otro lado?\n",
            "Entidades extraídas:\n",
            "No hay entidades nombradas en el texto.\n",
            "Respuestas a preguntas:\n",
            "[Producto: No especificado, Problema: No recibe respuesta, Ubicación: No especificado, Pedido: No especificado]\n",
            "Respuesta generada por LLM:\n",
            "¡Hola! Lamento mucho la demora en nuestra respuesta. Entiendo tu frustración por no recibir respuesta en días. Por favor, revisa tu bandeja de spam y, si no encuentras nada, te pido que reenvíes tu consulta para asegurarnos de recibirla.\n",
            "--------------------------------------------------\n",
            "Ticket #11:\n",
            "Mensaje: Gracias por el excelente servicio, volveré a comprar.\n",
            "Entidades extraídas:\n",
            "No hay entidades nombradas en el texto proporcionado.\n",
            "Respuestas a preguntas:\n",
            "[Producto: No especificado, Problema: No especificado, Ubicación: No especificado, Pedido: No especificado]\n",
            "Respuesta generada por LLM:\n",
            "¡Nos alegra muchísimo leer eso! Agradecemos tus palabras y tu confianza en nosotros.\n",
            "\n",
            "Si tienes alguna pregunta o necesitas algo, no dudes en contactarnos.\n",
            "\n",
            "¡Esperamos tu próxima compra!\n",
            "--------------------------------------------------\n",
            "Ticket #12:\n",
            "Mensaje: ¿Cuándo reponen el celular Motorola G200? Estoy esperando.\n",
            "Entidades extraídas:\n",
            "Aquí está la extracción de entidades nombradas del mensaje:\n",
            "\n",
            "*   **Motorola G200** → **MISCELÁNEO** → Modelo de celular.\n",
            "Respuestas a preguntas:\n",
            "[Producto: Celular Motorola G200, Problema: Espera por la reposición del celular, Ubicación: No especificado, Pedido: No especificado]\n",
            "Respuesta generada por LLM:\n",
            "Entendemos tu impaciencia por el Motorola G200. Lamentablemente, no tenemos una fecha exacta de reposición en este momento. Te recomendamos que revises regularmente nuestra página web o te suscribas a nuestras notificaciones para estar al tanto.\n",
            "--------------------------------------------------\n",
            "Ticket #13:\n",
            "Mensaje: Ya pasaron 10 días y el paquete no llega, ¿qué onda?\n",
            "Entidades extraídas:\n",
            "No hay entidades nombradas en el texto.\n",
            "Respuestas a preguntas:\n",
            "[Producto: Paquete, Problema: No llega el paquete, Ubicación: No especificado, Pedido: No especificado]\n",
            "Respuesta generada por LLM:\n",
            "¡Hola! Lamento mucho que tu paquete se haya demorado. Comprendo tu frustración. Por favor, revisá el número de seguimiento que te proporcionamos para obtener la información más reciente sobre su ubicación y te pedimos que nos contactes a través de este medio si el problema persiste.\n",
            "--------------------------------------------------\n",
            "Ticket #14:\n",
            "Mensaje: Felicitaciones, el empaque estaba impecable y llegó antes de lo previsto.\n",
            "Entidades extraídas:\n",
            "En este mensaje, no hay entidades nombradas.\n",
            "Respuestas a preguntas:\n",
            "[Producto: No especificado, Problema: No especificado, Ubicación: No especificado, Pedido: No especificado]\n",
            "Respuesta generada por LLM:\n",
            "¡Nos alegra mucho saber que tu pedido llegó en perfectas condiciones y antes de lo esperado! Agradecemos tus amables palabras sobre el empaque.  Esperamos que disfrutes tu compra, y si necesitas algo más, no dudes en contactarnos.\n",
            "--------------------------------------------------\n",
            "Ticket #15:\n",
            "Mensaje: ¿Cómo hago para descargar la factura de mi última compra?\n",
            "Entidades extraídas:\n",
            "No hay entidades nombradas en el texto proporcionado.\n",
            "Respuestas a preguntas:\n",
            "[Producto: No especificado, Problema: No saber cómo descargar la factura de su última compra, Ubicación: No especificado, Pedido: No especificado]\n",
            "Respuesta generada por LLM:\n",
            "¡Hola! Entendemos que necesitas descargar tu factura. Por favor, dirígete a tu perfil en nuestra página web y busca la sección \"Historial de compras\". Allí podrás encontrar y descargar tu factura.\n",
            "--------------------------------------------------\n"
          ]
        }
      ]
    },
    {
      "cell_type": "markdown",
      "source": [
        "### Conclusiones:\n",
        "\n",
        "* Las entidades nombradas se extraen correctamente en casos donde hay marcas, códigos o números de pedido.\n",
        "Por ejemplo: “BGH” como organización, “#90876” como número de pedido, “Motorola G200” como misc.\n",
        "\n",
        "* Para textos más informales o con lenguaje común (sin nombres propios), el modelo indica correctamente que no hay entidades nombradas.\n",
        "Eso evita ruido en el análisis.\n",
        "\n",
        "* Las respuestas del LLM se ven empáticas y contextuales, con reconocimiento del problema y sugerencias claras para el cliente.\n",
        "El tono es adecuado y respetuoso, lo que mejora la experiencia.\n",
        "\n",
        "* La extracción de info clave (producto, problema, ubicación, pedido) es precisa y útil para automatizar tareas de clasificación o asignación.\n",
        "\n",
        "* Se identifican bien casos sin datos específicos, lo que permite pedir más información cuando hace falta."
      ],
      "metadata": {
        "id": "NMHDp_TiDsRz"
      }
    },
    {
      "cell_type": "markdown",
      "source": [
        "## Interfaz Interactiva con Gradio"
      ],
      "metadata": {
        "id": "tNZbL-QfGnfc"
      }
    },
    {
      "cell_type": "code",
      "source": [
        "# --- 1. Función principal para interfaz ---\n",
        "\n",
        "def procesar_ticket(mensaje):\n",
        "    row = {\"mensaje\": mensaje}\n",
        "    try:\n",
        "        sentimiento = clasificar_sentimiento(row)\n",
        "        categoria = clasificar_categoria(row)\n",
        "        ner = analizar_entidades(row)\n",
        "        qa = responder_preguntas(row)\n",
        "        respuesta = respuesta_per(row)\n",
        "    except Exception as e:\n",
        "        error_msg = f\"Error al procesar el mensaje: {str(e)}\"\n",
        "        return error_msg, error_msg, error_msg, error_msg, error_msg\n",
        "\n",
        "    return sentimiento, categoria, ner, qa, respuesta"
      ],
      "metadata": {
        "id": "nW3s-bjaGmtN"
      },
      "execution_count": 64,
      "outputs": []
    },
    {
      "cell_type": "code",
      "source": [
        "# --- 2. Ejemplos ---\n",
        "\n",
        "ejemplos = [\n",
        "    [\"La cafetera llegó hecha pelota, una vergüenza. ¿Quién embala estas cosas?\"],\n",
        "    [\"¿Cuándo reponen el celular Motorola G200? Estoy esperando.\"],\n",
        "    [\"Gracias, el paquete llegó a tiempo y perfecto.\"],\n",
        "    [\"No puedo entrar a mi cuenta desde ayer, me tira error 503.\"],\n",
        "    [\"Pedí una tablet negra y me mandaron la blanca, ¿cómo lo soluciono?\"],\n",
        "]"
      ],
      "metadata": {
        "id": "sAy6MJ-fGw6M"
      },
      "execution_count": 65,
      "outputs": []
    },
    {
      "cell_type": "code",
      "source": [
        "# --- 3. Interfaz Gradio ---\n",
        "\n",
        "iface = gr.Interface(\n",
        "    fn=procesar_ticket,\n",
        "    inputs=gr.Textbox(lines=4, label=\"📨 Mensaje del cliente\"),\n",
        "    outputs=[\n",
        "        gr.Textbox(label=\"🎭 Sentimiento\"),\n",
        "        gr.Textbox(label=\"📂 Categoría\"),\n",
        "        gr.Textbox(label=\"🧠 Entidades extraídas\"),\n",
        "        gr.Textbox(label=\"❓ Preguntas clave (QA)\"),\n",
        "        gr.Textbox(lines=4, label=\"🤖 Respuesta generada\"),\n",
        "    ],\n",
        "    examples=ejemplos,\n",
        "    title=\"🤝 Asistente de Atención al Cliente\",\n",
        "    description=\"Ingresá un mensaje de cliente y el sistema analizará sentimiento, categoría, entidades, preguntas clave y generará una respuesta empática.\",\n",
        "    theme=\"soft\"\n",
        ")"
      ],
      "metadata": {
        "id": "mzcE897TGzkc"
      },
      "execution_count": 66,
      "outputs": []
    },
    {
      "cell_type": "code",
      "source": [
        "iface.launch(debug=True)"
      ],
      "metadata": {
        "colab": {
          "base_uri": "https://localhost:8080/",
          "height": 655
        },
        "id": "9otiCcWLG057",
        "outputId": "591b0acb-b39f-40a8-b78d-0b0c9aba74db"
      },
      "execution_count": null,
      "outputs": [
        {
          "output_type": "stream",
          "name": "stdout",
          "text": [
            "It looks like you are running Gradio on a hosted a Jupyter notebook. For the Gradio app to work, sharing must be enabled. Automatically setting `share=True` (you can turn this off by setting `share=False` in `launch()` explicitly).\n",
            "\n",
            "Colab notebook detected. This cell will run indefinitely so that you can see errors and logs. To turn off, set debug=False in launch().\n",
            "* Running on public URL: https://87c031f05b5cb99b85.gradio.live\n",
            "\n",
            "This share link expires in 1 week. For free permanent hosting and GPU upgrades, run `gradio deploy` from the terminal in the working directory to deploy to Hugging Face Spaces (https://huggingface.co/spaces)\n"
          ]
        },
        {
          "output_type": "display_data",
          "data": {
            "text/plain": [
              "<IPython.core.display.HTML object>"
            ],
            "text/html": [
              "<div><iframe src=\"https://87c031f05b5cb99b85.gradio.live\" width=\"100%\" height=\"500\" allow=\"autoplay; camera; microphone; clipboard-read; clipboard-write;\" frameborder=\"0\" allowfullscreen></iframe></div>"
            ]
          },
          "metadata": {}
        }
      ]
    },
    {
      "cell_type": "markdown",
      "source": [
        "## Conclusiones\n",
        "\n",
        "La implementación del Asistente de Atención al Cliente Inteligente ha demostrado ser exitosa y funcional, integrando análisis automatizado de lenguaje natural con una interfaz intuitiva. El sistema es capaz de:\n",
        "\n",
        "* Comprender e interpretar mensajes de clientes:\n",
        "\n",
        "    - Detecta el sentimiento emocional del mensaje (positivo, negativo, neutro).\n",
        "\n",
        "    - Clasifica automáticamente el mensaje dentro de categorías de atención (reclamos, consultas, agradecimientos, etc.).\n",
        "\n",
        "    - Extrae entidades clave como productos, marcas, números de pedido o errores técnicos.\n",
        "\n",
        "    - Responde preguntas fundamentales con base en el texto.\n",
        "\n",
        "    - Genera una respuesta empática, concisa y orientada a la acción, lista para ser enviada.\n",
        "\n",
        "* Beneficios concretos:\n",
        "\n",
        "    - Acelera el proceso de triage de tickets.\n",
        "\n",
        "    - Mejora la consistencia en las respuestas al cliente.\n",
        "\n",
        "    - Permite detectar automáticamente casos urgentes o repetitivos.\n",
        "\n",
        "    - Aporta estructura y comprensión semántica a mensajes no estructurados.\n",
        "\n",
        "* Interfaz interactiva:\n",
        "\n",
        "    - Fácil de usar para operadores de atención al cliente o supervisores.\n",
        "\n",
        "    - Incluye ejemplos predefinidos y puede ser extendida con nuevos casos.\n",
        "\n",
        "    - Corre localmente o puede ser desplegada en plataformas web.\n",
        "\n",
        "Si bien este tipo de soluciones puede mejorar significativamente la eficiencia en la gestión de tickets, consideramos que es importante destacar que:\n",
        "\n",
        "* No reemplaza completamente la intervención humana.\n",
        "\n",
        "* Los modelos pueden cometer errores de interpretación, especialmente en textos ambiguos, irónicos o culturalmente específicos.\n",
        "\n",
        "* Los casos delicados o emocionales requieren empatía real y toma de decisiones humanas.\n",
        "\n",
        "* El sistema debe ser utilizado como una herramienta de apoyo, que agiliza el trabajo, pero no elimina la necesidad de criterio profesional."
      ],
      "metadata": {
        "id": "uRWkpFGGPovG"
      }
    }
  ]
}